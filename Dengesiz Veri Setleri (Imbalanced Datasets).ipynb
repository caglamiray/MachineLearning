{
 "cells": [
  {
   "cell_type": "code",
   "execution_count": 1,
   "id": "c6cafb99",
   "metadata": {},
   "outputs": [],
   "source": [
    "#Dengesiz Veri Seti\n",
    "\n",
    "#Bir iş için sınıflandırma modeli yaratıyorsunuz ve bu modelin doğruluk değeri %95 çıkıyor. Her şey güzel.\n",
    "#Modeliniz kullanılmaya başlanıyor ama başarısız olduğu, her zaman aynı sınıfı tahminlediği fark ediliyor. \n",
    "#Veri setini tekrar incelediğinizde tespit edilemeyen sınıfın veri setindeki oranın %5 olduğunu görüyorsunuz. \n",
    "#Yani modelinizin başarısızlığı dengesiz veri setinden (Imbalanced Dataset) kaynaklı.\n",
    "\n",
    "#Dengesiz veri seti sınıflandırma problemlerinde görülür ve sınıf dağılımlarının birbirine yakın olmadığı durumlarda ortaya\n",
    "#çıkar. Problem çoğunluğa sahip sınıfın azınlık sınıfını domine etmesinden kaynaklanır. Oluşturulan model çoğunluğa sahip sınıfa\n",
    "#yakınlık gösterir, bu da azınlık sınıfının kötü sınıflandırılmasına sebep olur.\n",
    "\n",
    "#Dengesiz veri setleriyle karşılaştığımızda doğru gözlem yapabilmek ve dengeyi sağlayabilmek için uygulayabileceğimiz çeşitli\n",
    "#yöntemler vardır:\n",
    "\n",
    "#Doğru Metrik Seçimi: \n",
    "#Precision, Recall, F1-score, ROC Curve, AUC\n",
    "\n",
    "#Resampling: \n",
    "#Oversampling: Random Oversampling, SMOTE Oversampling\n",
    "#Undersampling: Random Undersampling, NearMiss Undersampling, Undersampling (Tomek links), Undersampling (Cluster Centroids)\n",
    "\n",
    "#Daha fazla veri toplamak\n",
    "\n",
    "#Sınıflandırma modellerinde bulunan “class_weight” parametresi kullanılarak azınlık ve çoğunluk sınıflarından eşit şekilde \n",
    "#öğrenebilen model yaratılması,\n",
    "\n",
    "#Tek bir modele değil , diğer modellerdeki performanslara da bakılması,\n",
    "\n",
    "#Daha farklı bir yaklaşım uygulanıp Anomaly detection veya Change detection yapmak\n",
    "\n",
    "#Dengesizlik içeren Credit Card Fraud Detection veri setini inceleyip, daha sonrasında bu dengesizlikle başa\n",
    "#çıkabilmek için veri setine çeşitli yöntemler uygulayacağız."
   ]
  },
  {
   "cell_type": "code",
   "execution_count": 2,
   "id": "9bb42029",
   "metadata": {},
   "outputs": [],
   "source": [
    "#Veri Setinin İncelenmesi\n",
    "\n",
    "#Kredi kartı şirketlerinin dolandırıcılığı tespit etmeleri önemlidir, müşterilerine yanlış ücretlendirilme \n",
    "#yapılmasını istemezler.\n",
    "\n",
    "#Bu veri seti kullanılarak dolandırıcılık yapılmış kredi kartlarını tespit eden bir model oluşturulmak isteniliyor.\n",
    "\n",
    "#Veri seti eylül 2013'te avrupada kredi kartıyla yapılan işlemlerden ve bu işlemlerin fraud(dolandırıcılık) ise 1 \n",
    "#değilse 0 olarak etiketlenmesiyle oluşmuştur. Gizlilik nedeniyle arka plan bilgisi çok fazla bulunmuyor \n",
    "#ve \"Time\",\"Amount\" değişkeni haricinde diğer değişkenler PCA(Principal component analysis) ile dönüştürülmüştür.\n",
    "\n",
    "#\"Time\" : ilk işlem ile her işlem arasındaki saniye\n",
    "#\"Amount\": maliyet\n",
    "\n",
    "#ilk olarak veri setini okutup, boş değer olup olmadığını gözlemleyip, Class değişkenin dağılımına bakacağız. \n",
    "#Daha sonrasında \"Amount\" ve \"Time\" değişkenini standartlaştırıyoruz. \n",
    "#Veriyi hold out yöntemiyle ayırıp, sınıflandırma modeli olan logistic regression ile modeli oluşturuyoruz. \n",
    "#Tek bir model üzerinden gideceğiz."
   ]
  },
  {
   "cell_type": "code",
   "execution_count": 3,
   "id": "3c048cd6",
   "metadata": {},
   "outputs": [],
   "source": [
    "# Gerekli kütüphaneler\n",
    "import pandas as pd\n",
    "import numpy as np\n",
    "from sklearn.preprocessing import RobustScaler\n",
    "from sklearn.linear_model import LogisticRegression\n",
    "from sklearn.model_selection import train_test_split\n",
    "from sklearn.metrics import accuracy_score\n",
    "from sklearn.metrics import confusion_matrix, classification_report,f1_score,recall_score,roc_auc_score, roc_curve\n",
    "import matplotlib.pyplot as plt\n",
    "import seaborn as sns\n",
    "from matplotlib import rc,rcParams\n",
    "import itertools\n",
    "\n",
    "import warnings\n",
    "warnings.filterwarnings(\"ignore\", category=DeprecationWarning) \n",
    "warnings.filterwarnings(\"ignore\", category=FutureWarning) \n",
    "warnings.filterwarnings(\"ignore\", category=UserWarning) "
   ]
  },
  {
   "cell_type": "code",
   "execution_count": 4,
   "id": "0f9ad764",
   "metadata": {},
   "outputs": [
    {
     "data": {
      "text/html": [
       "<div>\n",
       "<style scoped>\n",
       "    .dataframe tbody tr th:only-of-type {\n",
       "        vertical-align: middle;\n",
       "    }\n",
       "\n",
       "    .dataframe tbody tr th {\n",
       "        vertical-align: top;\n",
       "    }\n",
       "\n",
       "    .dataframe thead th {\n",
       "        text-align: right;\n",
       "    }\n",
       "</style>\n",
       "<table border=\"1\" class=\"dataframe\">\n",
       "  <thead>\n",
       "    <tr style=\"text-align: right;\">\n",
       "      <th></th>\n",
       "      <th>Time</th>\n",
       "      <th>V1</th>\n",
       "      <th>V2</th>\n",
       "      <th>V3</th>\n",
       "      <th>V4</th>\n",
       "      <th>V5</th>\n",
       "      <th>V6</th>\n",
       "      <th>V7</th>\n",
       "      <th>V8</th>\n",
       "      <th>V9</th>\n",
       "      <th>...</th>\n",
       "      <th>V21</th>\n",
       "      <th>V22</th>\n",
       "      <th>V23</th>\n",
       "      <th>V24</th>\n",
       "      <th>V25</th>\n",
       "      <th>V26</th>\n",
       "      <th>V27</th>\n",
       "      <th>V28</th>\n",
       "      <th>Amount</th>\n",
       "      <th>Class</th>\n",
       "    </tr>\n",
       "  </thead>\n",
       "  <tbody>\n",
       "    <tr>\n",
       "      <th>0</th>\n",
       "      <td>0.0</td>\n",
       "      <td>-1.359807</td>\n",
       "      <td>-0.072781</td>\n",
       "      <td>2.536347</td>\n",
       "      <td>1.378155</td>\n",
       "      <td>-0.338321</td>\n",
       "      <td>0.462388</td>\n",
       "      <td>0.239599</td>\n",
       "      <td>0.098698</td>\n",
       "      <td>0.363787</td>\n",
       "      <td>...</td>\n",
       "      <td>-0.018307</td>\n",
       "      <td>0.277838</td>\n",
       "      <td>-0.110474</td>\n",
       "      <td>0.066928</td>\n",
       "      <td>0.128539</td>\n",
       "      <td>-0.189115</td>\n",
       "      <td>0.133558</td>\n",
       "      <td>-0.021053</td>\n",
       "      <td>149.62</td>\n",
       "      <td>0</td>\n",
       "    </tr>\n",
       "    <tr>\n",
       "      <th>1</th>\n",
       "      <td>0.0</td>\n",
       "      <td>1.191857</td>\n",
       "      <td>0.266151</td>\n",
       "      <td>0.166480</td>\n",
       "      <td>0.448154</td>\n",
       "      <td>0.060018</td>\n",
       "      <td>-0.082361</td>\n",
       "      <td>-0.078803</td>\n",
       "      <td>0.085102</td>\n",
       "      <td>-0.255425</td>\n",
       "      <td>...</td>\n",
       "      <td>-0.225775</td>\n",
       "      <td>-0.638672</td>\n",
       "      <td>0.101288</td>\n",
       "      <td>-0.339846</td>\n",
       "      <td>0.167170</td>\n",
       "      <td>0.125895</td>\n",
       "      <td>-0.008983</td>\n",
       "      <td>0.014724</td>\n",
       "      <td>2.69</td>\n",
       "      <td>0</td>\n",
       "    </tr>\n",
       "    <tr>\n",
       "      <th>2</th>\n",
       "      <td>1.0</td>\n",
       "      <td>-1.358354</td>\n",
       "      <td>-1.340163</td>\n",
       "      <td>1.773209</td>\n",
       "      <td>0.379780</td>\n",
       "      <td>-0.503198</td>\n",
       "      <td>1.800499</td>\n",
       "      <td>0.791461</td>\n",
       "      <td>0.247676</td>\n",
       "      <td>-1.514654</td>\n",
       "      <td>...</td>\n",
       "      <td>0.247998</td>\n",
       "      <td>0.771679</td>\n",
       "      <td>0.909412</td>\n",
       "      <td>-0.689281</td>\n",
       "      <td>-0.327642</td>\n",
       "      <td>-0.139097</td>\n",
       "      <td>-0.055353</td>\n",
       "      <td>-0.059752</td>\n",
       "      <td>378.66</td>\n",
       "      <td>0</td>\n",
       "    </tr>\n",
       "    <tr>\n",
       "      <th>3</th>\n",
       "      <td>1.0</td>\n",
       "      <td>-0.966272</td>\n",
       "      <td>-0.185226</td>\n",
       "      <td>1.792993</td>\n",
       "      <td>-0.863291</td>\n",
       "      <td>-0.010309</td>\n",
       "      <td>1.247203</td>\n",
       "      <td>0.237609</td>\n",
       "      <td>0.377436</td>\n",
       "      <td>-1.387024</td>\n",
       "      <td>...</td>\n",
       "      <td>-0.108300</td>\n",
       "      <td>0.005274</td>\n",
       "      <td>-0.190321</td>\n",
       "      <td>-1.175575</td>\n",
       "      <td>0.647376</td>\n",
       "      <td>-0.221929</td>\n",
       "      <td>0.062723</td>\n",
       "      <td>0.061458</td>\n",
       "      <td>123.50</td>\n",
       "      <td>0</td>\n",
       "    </tr>\n",
       "    <tr>\n",
       "      <th>4</th>\n",
       "      <td>2.0</td>\n",
       "      <td>-1.158233</td>\n",
       "      <td>0.877737</td>\n",
       "      <td>1.548718</td>\n",
       "      <td>0.403034</td>\n",
       "      <td>-0.407193</td>\n",
       "      <td>0.095921</td>\n",
       "      <td>0.592941</td>\n",
       "      <td>-0.270533</td>\n",
       "      <td>0.817739</td>\n",
       "      <td>...</td>\n",
       "      <td>-0.009431</td>\n",
       "      <td>0.798278</td>\n",
       "      <td>-0.137458</td>\n",
       "      <td>0.141267</td>\n",
       "      <td>-0.206010</td>\n",
       "      <td>0.502292</td>\n",
       "      <td>0.219422</td>\n",
       "      <td>0.215153</td>\n",
       "      <td>69.99</td>\n",
       "      <td>0</td>\n",
       "    </tr>\n",
       "  </tbody>\n",
       "</table>\n",
       "<p>5 rows × 31 columns</p>\n",
       "</div>"
      ],
      "text/plain": [
       "   Time        V1        V2        V3        V4        V5        V6        V7  \\\n",
       "0   0.0 -1.359807 -0.072781  2.536347  1.378155 -0.338321  0.462388  0.239599   \n",
       "1   0.0  1.191857  0.266151  0.166480  0.448154  0.060018 -0.082361 -0.078803   \n",
       "2   1.0 -1.358354 -1.340163  1.773209  0.379780 -0.503198  1.800499  0.791461   \n",
       "3   1.0 -0.966272 -0.185226  1.792993 -0.863291 -0.010309  1.247203  0.237609   \n",
       "4   2.0 -1.158233  0.877737  1.548718  0.403034 -0.407193  0.095921  0.592941   \n",
       "\n",
       "         V8        V9  ...       V21       V22       V23       V24       V25  \\\n",
       "0  0.098698  0.363787  ... -0.018307  0.277838 -0.110474  0.066928  0.128539   \n",
       "1  0.085102 -0.255425  ... -0.225775 -0.638672  0.101288 -0.339846  0.167170   \n",
       "2  0.247676 -1.514654  ...  0.247998  0.771679  0.909412 -0.689281 -0.327642   \n",
       "3  0.377436 -1.387024  ... -0.108300  0.005274 -0.190321 -1.175575  0.647376   \n",
       "4 -0.270533  0.817739  ... -0.009431  0.798278 -0.137458  0.141267 -0.206010   \n",
       "\n",
       "        V26       V27       V28  Amount  Class  \n",
       "0 -0.189115  0.133558 -0.021053  149.62      0  \n",
       "1  0.125895 -0.008983  0.014724    2.69      0  \n",
       "2 -0.139097 -0.055353 -0.059752  378.66      0  \n",
       "3 -0.221929  0.062723  0.061458  123.50      0  \n",
       "4  0.502292  0.219422  0.215153   69.99      0  \n",
       "\n",
       "[5 rows x 31 columns]"
      ]
     },
     "execution_count": 4,
     "metadata": {},
     "output_type": "execute_result"
    }
   ],
   "source": [
    "# Veri setinin okutulması\n",
    "df = pd.read_csv(\"OneDrive/Masaüstü/creditcard/creditcard.csv\")\n",
    "df.head()"
   ]
  },
  {
   "cell_type": "code",
   "execution_count": 5,
   "id": "ca6aca81",
   "metadata": {},
   "outputs": [
    {
     "name": "stdout",
     "output_type": "stream",
     "text": [
      "Gözlem sayısı :  284807\n",
      "Değişken sayısı :  31\n"
     ]
    }
   ],
   "source": [
    "# Veri setindeki değişken ve gözlem sayısı\n",
    "print(\"Gözlem sayısı : \" ,len(df))\n",
    "print(\"Değişken sayısı : \", len(df.columns))"
   ]
  },
  {
   "cell_type": "code",
   "execution_count": 6,
   "id": "487ed6ba",
   "metadata": {},
   "outputs": [
    {
     "name": "stdout",
     "output_type": "stream",
     "text": [
      "<class 'pandas.core.frame.DataFrame'>\n",
      "RangeIndex: 284807 entries, 0 to 284806\n",
      "Data columns (total 31 columns):\n",
      " #   Column  Non-Null Count   Dtype  \n",
      "---  ------  --------------   -----  \n",
      " 0   Time    284807 non-null  float64\n",
      " 1   V1      284807 non-null  float64\n",
      " 2   V2      284807 non-null  float64\n",
      " 3   V3      284807 non-null  float64\n",
      " 4   V4      284807 non-null  float64\n",
      " 5   V5      284807 non-null  float64\n",
      " 6   V6      284807 non-null  float64\n",
      " 7   V7      284807 non-null  float64\n",
      " 8   V8      284807 non-null  float64\n",
      " 9   V9      284807 non-null  float64\n",
      " 10  V10     284807 non-null  float64\n",
      " 11  V11     284807 non-null  float64\n",
      " 12  V12     284807 non-null  float64\n",
      " 13  V13     284807 non-null  float64\n",
      " 14  V14     284807 non-null  float64\n",
      " 15  V15     284807 non-null  float64\n",
      " 16  V16     284807 non-null  float64\n",
      " 17  V17     284807 non-null  float64\n",
      " 18  V18     284807 non-null  float64\n",
      " 19  V19     284807 non-null  float64\n",
      " 20  V20     284807 non-null  float64\n",
      " 21  V21     284807 non-null  float64\n",
      " 22  V22     284807 non-null  float64\n",
      " 23  V23     284807 non-null  float64\n",
      " 24  V24     284807 non-null  float64\n",
      " 25  V25     284807 non-null  float64\n",
      " 26  V26     284807 non-null  float64\n",
      " 27  V27     284807 non-null  float64\n",
      " 28  V28     284807 non-null  float64\n",
      " 29  Amount  284807 non-null  float64\n",
      " 30  Class   284807 non-null  int64  \n",
      "dtypes: float64(30), int64(1)\n",
      "memory usage: 67.4 MB\n"
     ]
    }
   ],
   "source": [
    "# veri setindeki değişkenlerin tiplerini ve boş değer içerip içermediğini gözlemlemek istiyoruz\n",
    "df.info()"
   ]
  },
  {
   "cell_type": "code",
   "execution_count": 7,
   "id": "d11180a3",
   "metadata": {},
   "outputs": [
    {
     "data": {
      "image/png": "[encoded data removed]",
      "text/plain": [
       "<Figure size 1800x800 with 2 Axes>"
      ]
     },
     "metadata": {},
     "output_type": "display_data"
    }
   ],
   "source": [
    "# 1 sınıfının veri setinde bulunma oranı %0.2, 0 sınıfının ise %99.8\n",
    "f,ax=plt.subplots(1,2,figsize=(18,8))\n",
    "\n",
    "df['Class'].value_counts().plot.pie(explode=[0,0.1],autopct='%1.1f%%',ax=ax[0],shadow=True)\n",
    "ax[0].set_title('dağılım')\n",
    "ax[0].set_ylabel('')\n",
    "\n",
    "sns.countplot(x='Class',data=df,ax=ax[1])\n",
    "ax[1].set_title('Class')\n",
    "\n",
    "plt.show()\n",
    "\n",
    "#Kodun amacı, \"df\" adında bir DataFrame içinde bulunan \"Class\" adlı bir sütunun verilerini görselleştirmektir. \n",
    "#Bu sütun genellikle bir sınıflandırma problemi için kullanılır ve farklı sınıf etiketlerini içerir.\n",
    "#Bu kod parçası, veri setinizdeki farklı sınıfların dağılımını ve sayısını görselleştirmek \n",
    "#amacıyla kullanılan temel bir örnektir."
   ]
  },
  {
   "cell_type": "code",
   "execution_count": 8,
   "id": "7389d78e",
   "metadata": {},
   "outputs": [
    {
     "data": {
      "text/html": [
       "<div>\n",
       "<style scoped>\n",
       "    .dataframe tbody tr th:only-of-type {\n",
       "        vertical-align: middle;\n",
       "    }\n",
       "\n",
       "    .dataframe tbody tr th {\n",
       "        vertical-align: top;\n",
       "    }\n",
       "\n",
       "    .dataframe thead th {\n",
       "        text-align: right;\n",
       "    }\n",
       "</style>\n",
       "<table border=\"1\" class=\"dataframe\">\n",
       "  <thead>\n",
       "    <tr style=\"text-align: right;\">\n",
       "      <th></th>\n",
       "      <th>Time</th>\n",
       "      <th>V1</th>\n",
       "      <th>V2</th>\n",
       "      <th>V3</th>\n",
       "      <th>V4</th>\n",
       "      <th>V5</th>\n",
       "      <th>V6</th>\n",
       "      <th>V7</th>\n",
       "      <th>V8</th>\n",
       "      <th>V9</th>\n",
       "      <th>...</th>\n",
       "      <th>V21</th>\n",
       "      <th>V22</th>\n",
       "      <th>V23</th>\n",
       "      <th>V24</th>\n",
       "      <th>V25</th>\n",
       "      <th>V26</th>\n",
       "      <th>V27</th>\n",
       "      <th>V28</th>\n",
       "      <th>Amount</th>\n",
       "      <th>Class</th>\n",
       "    </tr>\n",
       "  </thead>\n",
       "  <tbody>\n",
       "    <tr>\n",
       "      <th>0</th>\n",
       "      <td>-0.994983</td>\n",
       "      <td>-1.359807</td>\n",
       "      <td>-0.072781</td>\n",
       "      <td>2.536347</td>\n",
       "      <td>1.378155</td>\n",
       "      <td>-0.338321</td>\n",
       "      <td>0.462388</td>\n",
       "      <td>0.239599</td>\n",
       "      <td>0.098698</td>\n",
       "      <td>0.363787</td>\n",
       "      <td>...</td>\n",
       "      <td>-0.018307</td>\n",
       "      <td>0.277838</td>\n",
       "      <td>-0.110474</td>\n",
       "      <td>0.066928</td>\n",
       "      <td>0.128539</td>\n",
       "      <td>-0.189115</td>\n",
       "      <td>0.133558</td>\n",
       "      <td>-0.021053</td>\n",
       "      <td>1.783274</td>\n",
       "      <td>0</td>\n",
       "    </tr>\n",
       "    <tr>\n",
       "      <th>1</th>\n",
       "      <td>-0.994983</td>\n",
       "      <td>1.191857</td>\n",
       "      <td>0.266151</td>\n",
       "      <td>0.166480</td>\n",
       "      <td>0.448154</td>\n",
       "      <td>0.060018</td>\n",
       "      <td>-0.082361</td>\n",
       "      <td>-0.078803</td>\n",
       "      <td>0.085102</td>\n",
       "      <td>-0.255425</td>\n",
       "      <td>...</td>\n",
       "      <td>-0.225775</td>\n",
       "      <td>-0.638672</td>\n",
       "      <td>0.101288</td>\n",
       "      <td>-0.339846</td>\n",
       "      <td>0.167170</td>\n",
       "      <td>0.125895</td>\n",
       "      <td>-0.008983</td>\n",
       "      <td>0.014724</td>\n",
       "      <td>-0.269825</td>\n",
       "      <td>0</td>\n",
       "    </tr>\n",
       "    <tr>\n",
       "      <th>2</th>\n",
       "      <td>-0.994972</td>\n",
       "      <td>-1.358354</td>\n",
       "      <td>-1.340163</td>\n",
       "      <td>1.773209</td>\n",
       "      <td>0.379780</td>\n",
       "      <td>-0.503198</td>\n",
       "      <td>1.800499</td>\n",
       "      <td>0.791461</td>\n",
       "      <td>0.247676</td>\n",
       "      <td>-1.514654</td>\n",
       "      <td>...</td>\n",
       "      <td>0.247998</td>\n",
       "      <td>0.771679</td>\n",
       "      <td>0.909412</td>\n",
       "      <td>-0.689281</td>\n",
       "      <td>-0.327642</td>\n",
       "      <td>-0.139097</td>\n",
       "      <td>-0.055353</td>\n",
       "      <td>-0.059752</td>\n",
       "      <td>4.983721</td>\n",
       "      <td>0</td>\n",
       "    </tr>\n",
       "    <tr>\n",
       "      <th>3</th>\n",
       "      <td>-0.994972</td>\n",
       "      <td>-0.966272</td>\n",
       "      <td>-0.185226</td>\n",
       "      <td>1.792993</td>\n",
       "      <td>-0.863291</td>\n",
       "      <td>-0.010309</td>\n",
       "      <td>1.247203</td>\n",
       "      <td>0.237609</td>\n",
       "      <td>0.377436</td>\n",
       "      <td>-1.387024</td>\n",
       "      <td>...</td>\n",
       "      <td>-0.108300</td>\n",
       "      <td>0.005274</td>\n",
       "      <td>-0.190321</td>\n",
       "      <td>-1.175575</td>\n",
       "      <td>0.647376</td>\n",
       "      <td>-0.221929</td>\n",
       "      <td>0.062723</td>\n",
       "      <td>0.061458</td>\n",
       "      <td>1.418291</td>\n",
       "      <td>0</td>\n",
       "    </tr>\n",
       "    <tr>\n",
       "      <th>4</th>\n",
       "      <td>-0.994960</td>\n",
       "      <td>-1.158233</td>\n",
       "      <td>0.877737</td>\n",
       "      <td>1.548718</td>\n",
       "      <td>0.403034</td>\n",
       "      <td>-0.407193</td>\n",
       "      <td>0.095921</td>\n",
       "      <td>0.592941</td>\n",
       "      <td>-0.270533</td>\n",
       "      <td>0.817739</td>\n",
       "      <td>...</td>\n",
       "      <td>-0.009431</td>\n",
       "      <td>0.798278</td>\n",
       "      <td>-0.137458</td>\n",
       "      <td>0.141267</td>\n",
       "      <td>-0.206010</td>\n",
       "      <td>0.502292</td>\n",
       "      <td>0.219422</td>\n",
       "      <td>0.215153</td>\n",
       "      <td>0.670579</td>\n",
       "      <td>0</td>\n",
       "    </tr>\n",
       "  </tbody>\n",
       "</table>\n",
       "<p>5 rows × 31 columns</p>\n",
       "</div>"
      ],
      "text/plain": [
       "       Time        V1        V2        V3        V4        V5        V6  \\\n",
       "0 -0.994983 -1.359807 -0.072781  2.536347  1.378155 -0.338321  0.462388   \n",
       "1 -0.994983  1.191857  0.266151  0.166480  0.448154  0.060018 -0.082361   \n",
       "2 -0.994972 -1.358354 -1.340163  1.773209  0.379780 -0.503198  1.800499   \n",
       "3 -0.994972 -0.966272 -0.185226  1.792993 -0.863291 -0.010309  1.247203   \n",
       "4 -0.994960 -1.158233  0.877737  1.548718  0.403034 -0.407193  0.095921   \n",
       "\n",
       "         V7        V8        V9  ...       V21       V22       V23       V24  \\\n",
       "0  0.239599  0.098698  0.363787  ... -0.018307  0.277838 -0.110474  0.066928   \n",
       "1 -0.078803  0.085102 -0.255425  ... -0.225775 -0.638672  0.101288 -0.339846   \n",
       "2  0.791461  0.247676 -1.514654  ...  0.247998  0.771679  0.909412 -0.689281   \n",
       "3  0.237609  0.377436 -1.387024  ... -0.108300  0.005274 -0.190321 -1.175575   \n",
       "4  0.592941 -0.270533  0.817739  ... -0.009431  0.798278 -0.137458  0.141267   \n",
       "\n",
       "        V25       V26       V27       V28    Amount  Class  \n",
       "0  0.128539 -0.189115  0.133558 -0.021053  1.783274      0  \n",
       "1  0.167170  0.125895 -0.008983  0.014724 -0.269825      0  \n",
       "2 -0.327642 -0.139097 -0.055353 -0.059752  4.983721      0  \n",
       "3  0.647376 -0.221929  0.062723  0.061458  1.418291      0  \n",
       "4 -0.206010  0.502292  0.219422  0.215153  0.670579      0  \n",
       "\n",
       "[5 rows x 31 columns]"
      ]
     },
     "execution_count": 8,
     "metadata": {},
     "output_type": "execute_result"
    }
   ],
   "source": [
    "# Time ve Amount değişkenlerini standartlaştırma\n",
    "\n",
    "#RobustScaler, verilere dayanarak verileri dönüştürmek için istatistiksel hesaplamalar yapar. \n",
    "#Özellikle, bu yöntem, verilerdeki aykırı değerlere karşı daha dirençlidir.\n",
    "#RobustScaler nesnesi oluşturuluyor:\n",
    "rob_scaler = RobustScaler()\n",
    "\n",
    "#Burada, \"Amount\" sütunu \"reshape\" ile iki boyutlu bir dizi olarak düzenleniyor. \n",
    "#Ardından, fit_transform() yöntemi ile \"Amount\" sütunundaki değerler standartlaştırılıyor ve\n",
    "#veri setindeki bu sütun güncelleniyor.\n",
    "#\"Amount\" değişkeninin standartlaştırılması:\n",
    "df['Amount'] = rob_scaler.fit_transform(df['Amount'].values.reshape(-1,1))\n",
    "\n",
    "#\"Time\" değişkeninin standartlaştırılması:\n",
    "df['Time'] = rob_scaler.fit_transform(df['Time'].values.reshape(-1,1))\n",
    "\n",
    "df.head()\n",
    "\n",
    "#Standartlaştırma, verileri belirli bir ölçekte tutmak için kullanılan bir işlemdir.\n",
    "#Standartlaştırma işlemi model eğitimi veya analiz gibi veri işleme aşamalarında, farklı özellikler arasındaki \n",
    "#ölçek farklarını azaltmaya yardımcı olur. Bu, model performansını artırabilir ve istatistiksel analizlerin daha \n",
    "#güvenilir olmasını sağlayabilir."
   ]
  },
  {
   "cell_type": "code",
   "execution_count": 9,
   "id": "ff7338bd",
   "metadata": {},
   "outputs": [],
   "source": [
    "# Hold out yöntemi uygulayıp veri setini eğitim ve test olarak ikiye ayırıyoruz.(%80,%20)\n",
    "\n",
    "#Bağımlı ve bağımsız değişkenlerin ayarlanması:\n",
    "X = df.drop(\"Class\", axis=1)  #bağımsız\n",
    "y = df[\"Class\"]   #bağımlı\n",
    "\n",
    "X_train, X_test, y_train, y_test = train_test_split(X, y, test_size=0.20, random_state=123456)\n",
    "\n",
    "#train_test_split() fonksiyonu, veri kümesini belirli bir oranla train ve test alt kümelerine böler.\n",
    "#test_size parametresi, test kümesinin oranını belirtir. Bu örnekte %20'ye denk gelir. \n",
    "#random_state parametresi ise rastgele verileri bölme işleminin her seferinde aynı sonuçları üretebilmesi için kullanılır.\n",
    "#Bu ayırma işlemi, makine öğrenimi modellerini eğitmek ve değerlendirmek için yaygın bir yaklaşımdır."
   ]
  },
  {
   "cell_type": "code",
   "execution_count": 10,
   "id": "64a0c763",
   "metadata": {},
   "outputs": [
    {
     "name": "stdout",
     "output_type": "stream",
     "text": [
      "Accuracy: 0.999\n"
     ]
    }
   ],
   "source": [
    "#Bu kod parçası, bir lojistik regresyon modeli tanımlar, eğitir ve modelin başarı skorunu hesaplar.\n",
    "#Bu, modelin veriye ne kadar iyi uyduğunu değerlendirmeye yardımcı olur\n",
    "\n",
    "#Modelin tanımlanması:\n",
    "#LogisticRegression() sınıfından bir lojistik regresyon modeli oluşturuluyor. \n",
    "model = LogisticRegression(random_state=123456)\n",
    "\n",
    "#Modelin eğitilmesi:\n",
    "#fit() yöntemi, modeli eğitmek için kullanılır. X_train train verilerini ve y_train train hedef değerlerini kullanarak model, \n",
    "#veri kümesini öğrenir ve eğitilir.\n",
    "model.fit(X_train, y_train)\n",
    "\n",
    "#Tahminlerin yapılması:\n",
    "#Eğitilmiş model, X_test test verilerini kullanarak tahminler yapar. Tahmin sonuçları y_pred değişkenine kaydedilir.\n",
    "y_pred = model.predict(X_test)\n",
    "\n",
    "#Başarı skorunun hesaplanması:\n",
    "#accuracy_score() fonksiyonu, gerçek test hedef değerleri (y_test) ile \n",
    "#model tarafından yapılan tahminlerin (y_pred) karşılaştırarak doğruluk (başarı) skorunu hesaplar.\n",
    "accuracy = accuracy_score(y_test, y_pred)\n",
    "\n",
    "#Elde edilen doğruluk skoru, üç ondalık basamağa kadar yazdırılır.\n",
    "print(\"Accuracy: %.3f\"%(accuracy))"
   ]
  },
  {
   "cell_type": "code",
   "execution_count": 11,
   "id": "561515e1",
   "metadata": {},
   "outputs": [],
   "source": [
    "#Accuracy sistemde doğru olarak yapılan tahminlerin tüm tahminlere oranıdır.\n",
    "#Oluşturduğumuz modelin doğruluk skoru 0.999. Modelimiz mükemmel çalışıyor diyebiliriz, değil mi?\n",
    "#Performansını incelemek için birde Confusion Matrix'ine bakalım."
   ]
  },
  {
   "cell_type": "code",
   "execution_count": 12,
   "id": "1b8f3987",
   "metadata": {},
   "outputs": [],
   "source": [
    "#Confusion Matrix\n",
    "#Confusion Matrix, bir sınıflandırma modelinin gerçek değerlerinin test verisi üzerindeki performansını \n",
    "#açıklamak için kullanılan bir tablodur.\n",
    "#Tahmini ve gerçek değerlerin 4 farklı kombinasyonunu içermektedir.\n",
    "\n",
    "#True Positives (TP) : Pozitif tahmin edildi ve bu doğru.\n",
    "#True Negative (TN) : Negatif tahmin edildi ve bu doğru.\n",
    "#False Positive (FP) : Pozitif tahmin edildi ve bu yanlış.\n",
    "#False Negative (FN) : Negatif tahmin edildi ve bu yanlış."
   ]
  },
  {
   "cell_type": "code",
   "execution_count": 13,
   "id": "3560d48f",
   "metadata": {},
   "outputs": [
    {
     "data": {
      "image/png": "[encoded data removed]",
      "text/plain": [
       "<Figure size 640x480 with 2 Axes>"
      ]
     },
     "metadata": {},
     "output_type": "display_data"
    }
   ],
   "source": [
    "#parametreler\n",
    "#cm: Çizdirilecek olan confusion matrix.\n",
    "#classes: Sınıf etiketlerinin listesi. Örneğin, 'Non Fraud' ve 'Fraud' gibi.\n",
    "#title: Çizimde kullanılacak başlık.\n",
    "#cmap: Renk haritası (varsayılan olarak plt.cm.Blues).\n",
    "\n",
    "def plot_confusion_matrix(cm, classes,\n",
    "                          title='Confusion matrix',\n",
    "                          cmap=plt.cm.Blues):\n",
    "\n",
    "    plt.rcParams.update({'font.size': 19})\n",
    "    #imshow(): Confusion matrix çizimine başlanır. cmap parametresi renk haritasını belirler.\n",
    "    plt.imshow(cm, interpolation='nearest', cmap=cmap)\n",
    "    plt.title(title,fontdict={'size':'16'})\n",
    "    #colorbar(): Renk barını (renk skalasını) çizer.\n",
    "    plt.colorbar()\n",
    "    tick_marks = np.arange(len(classes))\n",
    "    #xticks() ve yticks(): Eksen etiketleri belirlenir.\n",
    "    plt.xticks(tick_marks, classes, rotation=45,fontsize=12,color=\"blue\")\n",
    "    plt.yticks(tick_marks, classes,fontsize=12,color=\"blue\")\n",
    "    #tüm grafik öğelerinin yazı tipi kalınlığını kalın (bold) yapmak için kullanılır.\n",
    "    rc('font', weight='bold')\n",
    "    fmt = '.1f'\n",
    "    thresh = cm.max()\n",
    "    #Bu döngü, her bir hücreye confusion matrix içindeki değeri, belirli bir formatta ve renkte eklemek için kullanılır. \n",
    "    for i, j in itertools.product(range(cm.shape[0]), range(cm.shape[1])):\n",
    "        plt.text(j, i, format(cm[i, j], fmt),\n",
    "                 horizontalalignment=\"center\",\n",
    "                 color=\"red\")\n",
    "\n",
    "    plt.ylabel('True label',fontdict={'size':'16'})\n",
    "    plt.xlabel('Predicted label',fontdict={'size':'16'})\n",
    "    #tight_layout(): Grafiği düzenler.\n",
    "    plt.tight_layout()\n",
    "\n",
    "plot_confusion_matrix(confusion_matrix(y_test, y_pred=y_pred), classes=['Non Fraud','Fraud'],\n",
    "                      title='Confusion matrix')\n",
    "\n",
    "#sklearn.metrics modülünden confusion_matrix fonksiyonu kullanılarak gerçek y_test hedef değerleri \n",
    "#ile modelin tahminlerini (y_pred) kullanarak bir confusion matrix hesaplanır."
   ]
  },
  {
   "cell_type": "code",
   "execution_count": 14,
   "id": "fb4d69a7",
   "metadata": {},
   "outputs": [],
   "source": [
    "#Non Fraud sınıfı için 56870 (TP) doğru, 5 (FP) yanlış toplam 56875 tahmin yapılmış.\n",
    "#Fraud sınıfı için 31 (FN) yanlış, 56 (TN) doğru toplam 87 tahmin yapılmış."
   ]
  },
  {
   "cell_type": "code",
   "execution_count": 15,
   "id": "37151c9d",
   "metadata": {},
   "outputs": [],
   "source": [
    "#Model bize Fraud durumunu 0.99 doğrulukla tahmin edebildiğini söylüyor.\n",
    "#Ama confusion Matrix'i incelediğimizde Fraud sınıfındaki yanlış tahminlerin oranı hayli yüksek. \n",
    "#Çoğunluk sınıfını tahmin etmekte başarılıyken, azınlık sınıfını tahmin etmede başarılı değildir. \n",
    "#Yani model 0.99 oranla non-fraud sınıfını doğru tahmin etmekte.\n",
    "#Non Fraud sınıfına ait gözlem sayısının fraud sınıfına ait gözlem sayısından fazla olması,\n",
    "#modelin Non Fraud sınıfını tahminlemede başarılı olmasına neden olmakta.\n",
    "#Non Fraud sınıfına ait gözlem sayısının fraud sınıfına ait gözlem sayısından fazla olması, \n",
    "#modelin Non Fraud sınıfını tahminlemede başarılı olmasına neden olmakta.\n",
    "#Yaptığımız bu gözlem ile accuarcy score'un sınıflandırma modelleri için iyi bir performans ölçümü olmadığını söyleyebiliriz, \n",
    "#özelliklede elimizdeki veri setindeki gibi dengesizlik içeriyorsa.\n",
    "#Veri setini inceledik, dengesizlikle nasıl başa çıkıp model oluşturabiliceğimize, \n",
    "#hangi yöntemlerin uygulanabileceğine ve performansını hangi metriklerle ölçebileceğimize bakabiliriz."
   ]
  },
  {
   "cell_type": "code",
   "execution_count": 16,
   "id": "044d13e0",
   "metadata": {},
   "outputs": [],
   "source": [
    "#Doğru Metrik Seçimi\n",
    "#Doğruluk değerinin (Accuracy Score) yeterli olmadığını gördük. \n",
    "#Modelin performansını ölçmek için farklı metriklere bakmamız gerekiyor.\n",
    "\n",
    "#Precision (Kesinlik): Pozitif olarak tahmin edilenlerin ne kadarının gerçekte pozitif olduğunu gösterir. \n",
    "#Eğer precision düşük ise çok sayıda hatalı pozitif olduğunu ifade eder.\n",
    "\n",
    "#Recall (Duyarlılık): Pozitif olarak tahmin etmemiz gereken değerlerin ne kadarını pozitif tahmin ettiğimizi gösterir. \n",
    "#Eğer recall düşük ise çok sayıda yanlış negatif olduğunu ifade eder. Mümkün olduğu kadar yüksek olmalıdır.\n",
    "\n",
    "#F1 score: Düşük precison ve yüksek recall veya tam tersi durumda iki modeli karşılaştırmak güçtür. \n",
    "#Karşılaştırılabilir bir hale getirmek F1 score'u precision ve recall'u aynı anda ölçülmesine yardımcı olur. \n",
    "#Precision ve Duyarlılık değerlerinin harmonik ortalamasını göstermektedir.\n",
    "\n",
    "#Modelimiz için bu metrikleri inceleyelim.\n",
    "\n",
    "#Sınıflandırma raporu, ana sınıflandırma ölçütlerinin sınıf bazında temsilini gösterir."
   ]
  },
  {
   "cell_type": "code",
   "execution_count": 17,
   "id": "de6bad5b",
   "metadata": {},
   "outputs": [
    {
     "name": "stdout",
     "output_type": "stream",
     "text": [
      "              precision    recall  f1-score   support\n",
      "\n",
      "           0       1.00      1.00      1.00     56875\n",
      "           1       0.92      0.64      0.76        87\n",
      "\n",
      "    accuracy                           1.00     56962\n",
      "   macro avg       0.96      0.82      0.88     56962\n",
      "weighted avg       1.00      1.00      1.00     56962\n",
      "\n"
     ]
    }
   ],
   "source": [
    "#sınıflandırma raporu\n",
    "print(classification_report(y_test, y_pred))"
   ]
  },
  {
   "cell_type": "code",
   "execution_count": 18,
   "id": "214f4808",
   "metadata": {},
   "outputs": [],
   "source": [
    "#Precision ölçüsünü herbir sınıf için inceleyelim.\n",
    "\n",
    "#0 (non fraud )sınıfı için yapılan tahminlerden kaçının doğru olduğunu verir. \n",
    "#Confusion matrix'ine bakıldığında 56870 + 31 = 56901 tane non fraud sınıfı tahmini yapılmış ve \n",
    "#bunun 56870 tanesi doğru tahmin edilmiş. 0 sınıfı için Precision değeri 1'dir (56870 / 56901 )\n",
    "\n",
    "#1 (fraud) sınıfı için yapılan tahminlerden kaçının doğru olduğunu verir. \n",
    "#Confusion matrix'ine bakıldığında 5 + 56 = 61 tane fraud sınıfı tahmini yapılmış ve \n",
    "#bunun 56 tanesi doğru tahmin edilmiş. 0 sınıfı için Precision değeri 0.92'dir (56 / 61)\n",
    "\n",
    "#Recall ölçüsünü herbir sınıf için inceleyelim.\n",
    "\n",
    "#0(non fraud) sınıfı için tahmin etmemiz gereken değerlerin ne kadarını doğru tahmin ettiğimizi gösterir. \n",
    "#56870 + 5 = 56875 tane non fraud sınıfına ait gözlemimiz var ve bunların 56870 i doğru tahmin edilmiş. \n",
    "#0 sınıfı için recall değeri 56870 / 56875 = 1 'dir.\n",
    "\n",
    "#1(fraud) sınıfı için tahmin etmemiz gereken değerlerin ne kadarını doğru tahmin ettiğimizi gösterir. \n",
    "#31 + 56 = 87 tane fraud sınıfına ait gözlemimiz var ve bunların 56'si doğru tahmin edilmiş. \n",
    "#1 sınıfı için recall değeri 56 / 87 = 0.64 'dir.\n",
    "\n",
    "#Recall değerinlerine bakıldığında 1 sınıfın tahmin edilme başarısızlığını çok rahat görebiliyoruz.\n",
    "\n",
    "#F1-score'u da recall ve precision değerlerinin harmonik ortalamsını ifade ediyor.\n",
    "\n",
    "#Support ise sınıfların gerçek değerlerinin sayısını ifade etmekte. Ölçümlerin yapısal zayıflıklarını gösterebilir \n",
    "#yani Sınıflar arasındaki gözlem sayısındaki dengesizliğin ölçümleri etkilediğini söyleyebiliriz.\n",
    "\n",
    "#ROC curve\n",
    "#ROC eğrisi, tüm sınıflandırma eşiklerinde bir sınıflandırma modelinin performansını gösteren bir grafiktir. \n",
    "#Bu eğri iki parametreyi çizer:\n",
    "#True Positive Rate : Recall\n",
    "#False Positive Rate : Fraud'ı tespit etmedeki başarısızlık\n",
    "\n",
    "#Farklı sınıflandırma eşiklerinde gerçek pozitif oran ve yanlış pozitif oran eğrisidir.\n",
    "#(0,0) ‘da başlar ve (1,1)’ de biter. İyi bir model, 0'dan 1'e hızla giden bir eğri üretir.\n",
    "\n",
    "#AUC (Area under the ROC curve)\n",
    "#ROC eğrisini tek bir sayı ile özetler. (0,0) 'dan (1,1)' e kadar tüm ROC eğrisinin altındaki iki boyutlu alanın tamamını ölçer.\n",
    "#En iyi değer 1, en kötü değeri 0.5'dir."
   ]
  },
  {
   "cell_type": "code",
   "execution_count": 19,
   "id": "482fbe85",
   "metadata": {},
   "outputs": [
    {
     "data": {
      "image/png": "[encoded data removed]",
      "text/plain": [
       "<Figure size 640x480 with 1 Axes>"
      ]
     },
     "metadata": {},
     "output_type": "display_data"
    }
   ],
   "source": [
    "# Auc Roc Curve\n",
    "\n",
    "#generate_auc_roc_curve Fonksiyonunun Tanımlanması:\n",
    "#Bu fonksiyon, bir sınıflandırma modelinin ROC eğrisini ve AUC-ROC skorunu hesaplar ve görselleştirir.\n",
    "\n",
    "#clf, sınıflandırma modelini belirtmek için kullanılan bir isimdir.\n",
    "\n",
    "def generate_auc_roc_curve(clf, X_test):\n",
    "    \n",
    "    #predict_proba() fonksiyonunu kullanarak test verileri için tahmin olasılıklarını elde eder. \n",
    "    #Tahmin olasılıkları, modelin pozitif sınıfa ait tahmin olasılıklarını içeren bir dizidir.\n",
    "    #[:, 1] ifadesi ile sadece pozitif sınıfa ait tahmin olasılıkları alınmış olur.\n",
    "    y_pred_proba = clf.predict_proba(X_test)[:, 1]\n",
    "    \n",
    "    #roc_curve() fonksiyonu, ROC eğrisi parametrelerini hesaplar. \n",
    "    #fpr (False Positive Rate), tpr (True Positive Rate) ve thresholds (eşik değerleri),\n",
    "    #ROC eğrisinin çizimi için kullanılacak değerleri içeren dizilerdir.\n",
    "    fpr, tpr, thresholds = roc_curve(y_test,  y_pred_proba)\n",
    "    \n",
    "    #roc_auc_score() fonksiyonu, AUC-ROC skorunu hesaplar. Bu skor, ROC eğrisi altındaki alanı ifade eder.\n",
    "    auc = roc_auc_score(y_test, y_pred_proba)\n",
    "    \n",
    "    #plt.plot() fonksiyonu ile ROC eğrisi çizilir. Daha sonra plt.show() ile çizim ekranda gösterilir.\n",
    "    plt.plot(fpr,tpr)\n",
    "    plt.show()\n",
    "    pass  #Burada pass ifadesi kullanılmazsa kod hata vermez\n",
    "\n",
    "generate_auc_roc_curve(model, X_test)\n",
    "#Tanımlanan fonksiyon, belirli bir modeli (model) ve test verilerini (X_test) kullanarak çağrılır.\n",
    "#Bu, ROC eğrisini ve AUC-ROC skorunu çizer."
   ]
  },
  {
   "cell_type": "code",
   "execution_count": 20,
   "id": "343175b8",
   "metadata": {},
   "outputs": [
    {
     "name": "stdout",
     "output_type": "stream",
     "text": [
      "AUC ROC Curve with Area Under the curve = 0.961\n"
     ]
    }
   ],
   "source": [
    "#Bu satır, predict_proba() fonksiyonunu kullanarak test verileri için pozitif sınıfa ait tahmin olasılıklarını elde eder. \n",
    "#[:, 1] ifadesi ile sadece pozitif sınıfa ait tahmin olasılıkları alınmış olur.\n",
    "y_pred_proba = model.predict_proba(X_test)[:, 1]\n",
    "\n",
    "#roc_auc_score() fonksiyonu, gerçek hedef değerleri (y_test) ile pozitif sınıfa ait tahmin olasılıklarını (y_pred_proba) \n",
    "#kullanarak AUC-ROC skorunu hesaplar. Bu skor, ROC eğrisi altındaki alanı ifade eder.\n",
    "auc = roc_auc_score(y_test, y_pred_proba)\n",
    "\n",
    "print(\"AUC ROC Curve with Area Under the curve = %.3f\"%auc)"
   ]
  },
  {
   "cell_type": "code",
   "execution_count": 21,
   "id": "90b95f6f",
   "metadata": {},
   "outputs": [],
   "source": [
    "#roc_auc_score() fonksiyonu, gerçek hedef değerleri (y_test) ile pozitif sınıfa ait tahmin olasılıklarını \n",
    "#(y_pred_proba) kullanarak AUC-ROC skorunu hesaplar. Bu skor, ROC eğrisi altındaki alanı ifade eder.\n",
    "\n",
    "#Dengesizliği gidermek için çeşitli yöntemleri veri setine uygulayalım.\n",
    "\n",
    "#NOT: Yöntemler eğitim setine uygulanmalıdır. Test setine uygulanırsa doğru değerlendirme yapılamaz."
   ]
  },
  {
   "cell_type": "code",
   "execution_count": 22,
   "id": "bf134214",
   "metadata": {},
   "outputs": [],
   "source": [
    "#Resampling\n",
    "#Yeniden örnekleme(Resampling), azınlık sınıfına yeni örnekler ekleyerek veya çoğunluk sınıfından örnekler \n",
    "#çıkarılarak veri setinin daha dengeli hale getirilmesidir."
   ]
  },
  {
   "cell_type": "code",
   "execution_count": 23,
   "id": "549d9232",
   "metadata": {},
   "outputs": [],
   "source": [
    "#Oversampling\n",
    "#Azınlık sınıfına ait örneklerin kopyalanmasıyla veri setini dengeler.\n",
    "\n",
    "#Random Oversampling:\n",
    "#Azınlık sınıfından rastgele seçilen örneklerin eklenmesiyle veri setinin dengelenmesidir.\n",
    "#Veri setiniz küçükse bu teknik kullanılabilinir.\n",
    "#Overfitting’e neden olabilir.\n",
    "\n",
    "#RandomOverSampler metodu sampling_strategy argümanını almakta, sampling_stratefy='minority' dendiğinde \n",
    "#azınlık sınıfının sayısını çoğunluk sınıfının sayısa eşitleyecek şekilde artırır.\n",
    "\n",
    "#Bu argümana float bir değerde girebiliriz. Örneğin azınlık sınıfımızın sayısı 1000, \n",
    "#çoğunluk sınıfının sayısı 100 olsun. sampling_stratefy = 0.5 dersek, azınlık sınıfının sayısı 500 olacak \n",
    "#şekilde ekleme yapılacaktır."
   ]
  },
  {
   "cell_type": "code",
   "execution_count": 24,
   "id": "0f321899",
   "metadata": {},
   "outputs": [
    {
     "data": {
      "text/plain": [
       "Class\n",
       "0    227440\n",
       "1       405\n",
       "Name: count, dtype: int64"
      ]
     },
     "execution_count": 24,
     "metadata": {},
     "output_type": "execute_result"
    }
   ],
   "source": [
    "# random oversampling önce eğitim setindeki sınıf sayısı\n",
    "y_train.value_counts()"
   ]
  },
  {
   "cell_type": "code",
   "execution_count": 25,
   "id": "6e746c17",
   "metadata": {},
   "outputs": [],
   "source": [
    "# RandomOver Sampling uygulanması (Eğitim setine uygulanıyor)\n",
    "\n",
    "#imblearn kütüphanesinin over_sampling alt modülünden RandomOverSampler sınıfını içe aktarıyoruz. \n",
    "#Bu sınıf, Random Over Sampling yöntemini uygulamak için kullanılır.\n",
    "from imblearn.over_sampling import RandomOverSampler\n",
    "\n",
    "#RandomOverSampler sınıfını kullanarak bir örnekleme (sampling) yöntemi oluşturuyoruz. \n",
    "#sampling_strategy parametresi ile hangi sınıfın örneklerinin ne kadar artırılacağını belirliyoruz. \n",
    "#'minority', azınlık sınıfını çoğunluk sınıfına eşitlemek için kullanılan bir stratejidir. \n",
    "#Bu strateji, azınlık sınıfındaki örnekleri, çoğunluk sınıfındaki örnek sayısına getirecek şekilde artırır\n",
    "oversample = RandomOverSampler(sampling_strategy='minority')\n",
    "\n",
    "#fit_resample() fonksiyonu, Random Over Sampling yöntemini uygular ve eğitim veri setindeki \n",
    "#(X_train, y_train) örnekleri dengelemiş (X_randomover, y_randomover) veri seti olarak döndürür.\n",
    "#Bu işlem, azınlık sınıfındaki örnekleri artırarak veri setinin dengesini sağlar.\n",
    "X_randomover, y_randomover = oversample.fit_resample(X_train, y_train)"
   ]
  },
  {
   "cell_type": "code",
   "execution_count": 26,
   "id": "5441875c",
   "metadata": {},
   "outputs": [
    {
     "data": {
      "text/plain": [
       "Class\n",
       "0    227440\n",
       "1    227440\n",
       "Name: count, dtype: int64"
      ]
     },
     "execution_count": 26,
     "metadata": {},
     "output_type": "execute_result"
    }
   ],
   "source": [
    "# random oversampling den sonra eğitim setinin sınıf sayısı\n",
    "y_randomover.value_counts()"
   ]
  },
  {
   "cell_type": "code",
   "execution_count": 27,
   "id": "786aa876",
   "metadata": {},
   "outputs": [
    {
     "name": "stdout",
     "output_type": "stream",
     "text": [
      "Accuracy: 0.977%\n"
     ]
    }
   ],
   "source": [
    "#Bu kod parçası, Random Over Sampling yöntemi ile dengelemiş eğitim verileri üzerinde bir sınıflandırma modeli eğitir, \n",
    "#test verileri üzerinde tahminler yapar ve bu tahminlerin doğruluğunu değerlendirir.\n",
    "\n",
    "#Eğitim verilerine uygulanan Random Over Sampling yöntemi sonucunda elde edilen dengelemiş \n",
    "#(X_randomover, y_randomover) verileri kullanarak, bir sınıflandırma modeli (model) eğitilir. \n",
    "model.fit(X_randomover, y_randomover)\n",
    "\n",
    "#Eğitilmiş modeli kullanarak test verileri üzerinde tahminler yapılır (model.predict(X_test)). \n",
    "#Bu tahminler ile gerçek test verileri (y_test) arasındaki sınıflandırma doğruluğu (accuracy) hesaplanır. \n",
    "#Doğruluk, doğru tahmin edilen örneklerin toplam örnek sayısına oranı olarak ifade edilir.\n",
    "y_pred = model.predict(X_test)\n",
    "accuracy = accuracy_score(y_test, y_pred)\n",
    "print(\"Accuracy: %.3f%%\" % (accuracy))"
   ]
  },
  {
   "cell_type": "code",
   "execution_count": 29,
   "id": "e4b92c4c",
   "metadata": {},
   "outputs": [
    {
     "data": {
      "image/png": "[encoded data removed]",
      "text/plain": [
       "<Figure size 640x480 with 2 Axes>"
      ]
     },
     "metadata": {},
     "output_type": "display_data"
    }
   ],
   "source": [
    "plot_confusion_matrix(confusion_matrix(y_test, y_pred=y_pred), \n",
    "                      classes=['Non Fraud','Fraud'],\n",
    "                      title='Confusion matrix')"
   ]
  },
  {
   "cell_type": "code",
   "execution_count": 30,
   "id": "9edc914a",
   "metadata": {},
   "outputs": [
    {
     "name": "stdout",
     "output_type": "stream",
     "text": [
      "              precision    recall  f1-score   support\n",
      "\n",
      "           0       1.00      0.98      0.99     56875\n",
      "           1       0.05      0.86      0.10        87\n",
      "\n",
      "    accuracy                           0.98     56962\n",
      "   macro avg       0.53      0.92      0.55     56962\n",
      "weighted avg       1.00      0.98      0.99     56962\n",
      "\n"
     ]
    }
   ],
   "source": [
    "#sınıflandırma raporu\n",
    "print(classification_report(y_test, y_pred))"
   ]
  },
  {
   "cell_type": "code",
   "execution_count": 31,
   "id": "aa5bd56f",
   "metadata": {},
   "outputs": [],
   "source": [
    "#Random Oversampling uygulandıktan sonra eğitilen modelin doğruluk değeri 0.97'dır, düşüş gözlenmekte. \n",
    "#Confusion Matrix ve Sınıflandırma raporuna bakıldığında, tahmin edilen fraud sınıflarının yanlış çıkma oranı yüksek görünüyor,\n",
    "#bu da 1 sınıfın precision değerini düşürmüş durumda. Ama 1 sınıfının recall değerinde de bir yükseliş var, \n",
    "#modelin fraud sınıfını doğru tahmin etme oranı artmıştır. İlk modele göre Non fraud sınıfının tahmin edilme başarısı \n",
    "#düşmüş durumda ama fraud sınıfının doğru tahmin edilmesindeki yükselme randomoversampling yapıldıktan sonra oluşturulmuş \n",
    "#modeli tercih etmemizde büyük bir etken."
   ]
  },
  {
   "cell_type": "code",
   "execution_count": 32,
   "id": "1660bfca",
   "metadata": {},
   "outputs": [],
   "source": [
    "#SMOTE Oversampling:\n",
    "#Overfitting’i önlemek için azınlık sınıfından sentetik örnekler oluşturulması.\n",
    "#Önce azınlık sınıfından rastgele bir örnek seçilir.\n",
    "#Daha sonra bu örnek için en yakın komşulardan k tanesi bulunur.\n",
    "#k en yakın komşulardan biri rastgele seçilir ve azınlık sınıfından rastgele seçilen örnekle birleştirilip \n",
    "#özellik uzayında bir çizgi parçası oluşturarak sentetik örnek oluşturulur."
   ]
  },
  {
   "cell_type": "code",
   "execution_count": 33,
   "id": "26b883db",
   "metadata": {},
   "outputs": [
    {
     "data": {
      "text/plain": [
       "Class\n",
       "0    227440\n",
       "1       405\n",
       "Name: count, dtype: int64"
      ]
     },
     "execution_count": 33,
     "metadata": {},
     "output_type": "execute_result"
    }
   ],
   "source": [
    "# smote dan önce eğitim setindeki sınıf sayısı\n",
    "y_train.value_counts()"
   ]
  },
  {
   "cell_type": "code",
   "execution_count": 34,
   "id": "59bf88fb",
   "metadata": {},
   "outputs": [],
   "source": [
    "# Smote uygulanması (Eğitim setine uygulanıyor)\n",
    "\n",
    "#imblearn kütüphanesinin over_sampling alt modülünden SMOTE sınıfını içe aktarıyoruz. \n",
    "#Bu sınıf, Synthetic Minority Over-sampling Technique (SMOTE) yöntemini uygulamak için kullanılır.\n",
    "from imblearn.over_sampling import SMOTE\n",
    "\n",
    "#SMOTE sınıfını kullanarak bir örnekleme (sampling) yöntemi oluşturuyoruz. \n",
    "#Varsayılan olarak, SMOTE yöntemi tüm sınıfların örnek sayısını eşitlemeye çalışır.\n",
    "oversample = SMOTE()\n",
    "\n",
    "#fit_resample() fonksiyonu, SMOTE yöntemini uygular ve eğitim veri setindeki (X_train, y_train) örnekleri dengelemiş \n",
    "#(X_smote, y_smote) veri seti olarak döndürür. Bu işlem, azınlık sınıfındaki örnekleri sentetik olarak üreterek veri \n",
    "#setinin dengesini sağlar.\n",
    "X_smote, y_smote = oversample.fit_resample(X_train, y_train)"
   ]
  },
  {
   "cell_type": "code",
   "execution_count": 35,
   "id": "dda2a9c6",
   "metadata": {},
   "outputs": [
    {
     "data": {
      "text/plain": [
       "Class\n",
       "0    227440\n",
       "1    227440\n",
       "Name: count, dtype: int64"
      ]
     },
     "execution_count": 35,
     "metadata": {},
     "output_type": "execute_result"
    }
   ],
   "source": [
    "# smote dan sonra eğitim setinin sınıf sayısı\n",
    "y_smote.value_counts()"
   ]
  },
  {
   "cell_type": "code",
   "execution_count": 36,
   "id": "c8c48c17",
   "metadata": {},
   "outputs": [
    {
     "name": "stdout",
     "output_type": "stream",
     "text": [
      "Accuracy: 0.975%\n"
     ]
    }
   ],
   "source": [
    "# modelin eğitilmesi ve başarı oranı\n",
    "model.fit(X_smote, y_smote)\n",
    "y_pred = model.predict(X_test)\n",
    "\n",
    "accuracy = accuracy_score(y_test, y_pred)\n",
    "print(\"Accuracy: %.3f%%\" % (accuracy))"
   ]
  },
  {
   "cell_type": "code",
   "execution_count": 37,
   "id": "384f20c5",
   "metadata": {},
   "outputs": [
    {
     "data": {
      "image/png": "[encoded data removed]",
      "text/plain": [
       "<Figure size 640x480 with 2 Axes>"
      ]
     },
     "metadata": {},
     "output_type": "display_data"
    }
   ],
   "source": [
    "plot_confusion_matrix(confusion_matrix(y_test, y_pred=y_pred), \n",
    "                      classes=['Non Fraud','Fraud'],\n",
    "                      title='Confusion matrix')"
   ]
  },
  {
   "cell_type": "code",
   "execution_count": 38,
   "id": "60e3512a",
   "metadata": {},
   "outputs": [
    {
     "name": "stdout",
     "output_type": "stream",
     "text": [
      "              precision    recall  f1-score   support\n",
      "\n",
      "           0       1.00      0.98      0.99     56875\n",
      "           1       0.05      0.86      0.10        87\n",
      "\n",
      "    accuracy                           0.98     56962\n",
      "   macro avg       0.53      0.92      0.54     56962\n",
      "weighted avg       1.00      0.98      0.99     56962\n",
      "\n"
     ]
    }
   ],
   "source": [
    "#sınıflandırma raporu\n",
    "print(classification_report(y_test, y_pred))"
   ]
  },
  {
   "cell_type": "code",
   "execution_count": 39,
   "id": "3f0947ed",
   "metadata": {},
   "outputs": [],
   "source": [
    "#Undersampling\n",
    "\n",
    "#Çoğunluk sınıfına ait örneklerin çıkarılmasıyla veri setini dengeleme tekniğidir. \n",
    "#Büyük veri setine sahip olunduğunda kullanılabilir. Elimizdeki veri seti büyük olmadığı için verimli sonuçlar alınmayacaktır.\n",
    "#Ama yöntemleri açıklayıp bazılarının nasıl uygulanabiliceğini göstereceğim.\n",
    "\n",
    "#Random Undersampling:\n",
    "#Çıkarılan örnekler rastgele seçilir.\n",
    "#Büyük veri setine sahipseniz bu tekniği kullanabilirsiniz.\n",
    "#Rastgele seçimden dolayı bilgi kaybı yaşanabilir."
   ]
  },
  {
   "cell_type": "code",
   "execution_count": 40,
   "id": "d431e78d",
   "metadata": {},
   "outputs": [
    {
     "data": {
      "text/plain": [
       "Class\n",
       "0    227440\n",
       "1       405\n",
       "Name: count, dtype: int64"
      ]
     },
     "execution_count": 40,
     "metadata": {},
     "output_type": "execute_result"
    }
   ],
   "source": [
    "# random undersampling den önce eğitim setindeki sınıf sayısı\n",
    "y_train.value_counts()"
   ]
  },
  {
   "cell_type": "code",
   "execution_count": 41,
   "id": "6f02d144",
   "metadata": {},
   "outputs": [],
   "source": [
    "#imblearn kütüphanesinin under_sampling alt modülünden RandomUnderSampler sınıfını içe aktarıyoruz. \n",
    "#Bu sınıf, Random Under Sampling yöntemini uygulamak için kullanılır.\n",
    "from imblearn.under_sampling import RandomUnderSampler\n",
    "\n",
    "#RandomUnderSampler sınıfını kullanarak bir örnekleme (sampling) yöntemi oluşturuyoruz. \n",
    "#Varsayılan olarak, bu yöntem azınlık sınıfındaki örnekleri silerek veri setini dengeler\n",
    "ranUnSample = RandomUnderSampler()\n",
    "\n",
    "#fit_resample() fonksiyonu, Random Under Sampling yöntemini uygular ve eğitim veri setindeki (X_train, y_train) örnekleri \n",
    "#dengelemiş (X_ranUnSample, y_ranUnSample) veri seti olarak döndürür. \n",
    "#Bu işlem, azınlık sınıfındaki örnekleri silerek veri setinin dengesini sağlar.\n",
    "X_ranUnSample, y_ranUnSample = ranUnSample.fit_resample(X_train, y_train)"
   ]
  },
  {
   "cell_type": "code",
   "execution_count": 42,
   "id": "6ad91983",
   "metadata": {},
   "outputs": [
    {
     "data": {
      "text/plain": [
       "Class\n",
       "0    405\n",
       "1    405\n",
       "Name: count, dtype: int64"
      ]
     },
     "execution_count": 42,
     "metadata": {},
     "output_type": "execute_result"
    }
   ],
   "source": [
    "# Random undersampling sonra\n",
    "y_ranUnSample.value_counts()"
   ]
  },
  {
   "cell_type": "code",
   "execution_count": 43,
   "id": "b3c418db",
   "metadata": {},
   "outputs": [],
   "source": [
    "#NearMiss Undersampling:\n",
    "\n",
    "#Bilgi kaybını önler.\n",
    "#KNN algoritmasına dayanır.\n",
    "#Çoğunluk sınıfına ait örneklerin azınlık sınıfına ait örneklerle olan uzaklığı hesaplanır.\n",
    "#Belirtilen k değerine göre uzaklığı kısa olan örnekler korunur.\n",
    "\n",
    "#Undersampling (Tomek links):\n",
    "\n",
    "#Farklı sınıflara ait en yakın iki örneğin arasındaki çoğunluk sınıfının örnekleri kaldırılarak, \n",
    "#iki sınıf arasındaki boşluk arttırılır.\n",
    "\n",
    "#Undersampling (Cluster Centroids):\n",
    "\n",
    "#Önemsiz örneklerin veri setinden çıkarılmasıdır.Örneğin önemli veya önemsiz olduğu kümelemeyle belirlenir.\n",
    "\n",
    "#Undersampling ve Oversampling tekniklerinin bir araya gelmesiyle daha dengeli veri setleri oluşturulabilinir."
   ]
  },
  {
   "cell_type": "code",
   "execution_count": 44,
   "id": "6210535d",
   "metadata": {},
   "outputs": [],
   "source": [
    "#Diğer Yöntemler\n",
    "#Daha fazla veri toplamak,\n",
    "#Sınıflandırma modellerinde bulunan “class_weight” parametresi kullanılarak azınlık ve çoğunluk sınıflarından\n",
    "#eşit şekilde öğrenebilen model yaratılması,\n",
    "#Tek bir modele değil , diğer modellerdeki performanslara da bakılması,\n",
    "#Daha farklı bir yaklaşım uygulanıp Anomaly detection veya Change detection yapmak\n",
    "#gibi yöntemlerle de dengesiz veri setiyle başa çıkılır.\n",
    "\n",
    "#Hangi yöntemin en iyi sonuç vereceği elimizdeki veri setine bağlıdır. \n",
    "#Yöntemler denenerek veri setine en uygun olanın seçilmesi en iyi sonucu sağlar diyebiliriz."
   ]
  },
  {
   "cell_type": "code",
   "execution_count": 45,
   "id": "6d158504",
   "metadata": {},
   "outputs": [],
   "source": [
    "#Referanslar\n",
    "\n",
    "#https://machinelearningmastery.com/random-oversampling-and-undersampling-for-imbalanced-classification/\n",
    "#https://machinelearningmastery.com/smote-oversampling-for-imbalanced-classification/\n",
    "#https://towardsdatascience.com/understanding-confusion-matrix-a9ad42dcfd62\n",
    "#https://towardsdatascience.com/understanding-auc-roc-curve-68b2303cc9c5\n",
    "#https://machinelearningmastery.com/tactics-to-combat-imbalanced-classes-in-your-machine-learning-dataset/"
   ]
  }
 ],
 "metadata": {
  "kernelspec": {
   "display_name": "Python 3 (ipykernel)",
   "language": "python",
   "name": "python3"
  },
  "language_info": {
   "codemirror_mode": {
    "name": "ipython",
    "version": 3
   },
   "file_extension": ".py",
   "mimetype": "text/x-python",
   "name": "python",
   "nbconvert_exporter": "python",
   "pygments_lexer": "ipython3",
   "version": "3.11.4"
  }
 },
 "nbformat": 4,
 "nbformat_minor": 5
}
