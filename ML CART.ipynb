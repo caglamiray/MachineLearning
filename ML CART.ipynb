{
 "cells": [
  {
   "cell_type": "code",
   "execution_count": 1,
   "id": "ef00fa7d",
   "metadata": {},
   "outputs": [],
   "source": [
    "################################################\n",
    "# Decision Tree Classification: CART\n",
    "################################################\n",
    "\n",
    "# 1. Exploratory Data Analysis\n",
    "# 2. Data Preprocessing & Feature Engineering\n",
    "# 3. Modeling using CART\n",
    "# 4. Hyperparameter Optimization with GridSearchCV\n",
    "# 5. Final Model\n",
    "# 6. Feature Importance\n",
    "# 7. Analyzing Model Complexity with Learning Curves (BONUS)\n",
    "# 8. Visualizing the Decision Tree\n",
    "# 9. Extracting Decision Rules\n",
    "# 10. Extracting Python/SQL/Excel Codes of Decision Rules\n",
    "# 11. Prediction using Python Codes\n",
    "# 12. Saving and Loading Model"
   ]
  },
  {
   "cell_type": "code",
   "execution_count": 2,
   "id": "60a476d1",
   "metadata": {},
   "outputs": [],
   "source": [
    "import warnings\n",
    "import joblib\n",
    "import pydotplus\n",
    "import numpy as np\n",
    "import pandas as pd\n",
    "import seaborn as sns\n",
    "from matplotlib import pyplot as plt\n",
    "from sklearn.tree import DecisionTreeClassifier, export_graphviz, export_text\n",
    "from sklearn.metrics import classification_report, roc_auc_score\n",
    "from sklearn.model_selection import train_test_split, GridSearchCV, cross_validate, validation_curve\n",
    "from skompiler import skompile\n",
    "import graphviz"
   ]
  },
  {
   "cell_type": "code",
   "execution_count": 3,
   "id": "2b430884",
   "metadata": {},
   "outputs": [],
   "source": [
    "#bütün sütunları göster\n",
    "\n",
    "pd.set_option('display.max_columns', None)"
   ]
  },
  {
   "cell_type": "code",
   "execution_count": 4,
   "id": "04d055f5",
   "metadata": {},
   "outputs": [],
   "source": [
    "#bazı hataları ignore et\n",
    "\n",
    "warnings.simplefilter(action='ignore', category=Warning)"
   ]
  },
  {
   "cell_type": "code",
   "execution_count": 5,
   "id": "2b790c5b",
   "metadata": {},
   "outputs": [],
   "source": [
    "# 1. Exploratory Data Analysis\n",
    "\n",
    "#geçtik"
   ]
  },
  {
   "cell_type": "code",
   "execution_count": 6,
   "id": "67c30734",
   "metadata": {},
   "outputs": [],
   "source": [
    "# 2. Data Preprocessing & Feature Engineering\n",
    "\n",
    "#geçtik"
   ]
  },
  {
   "cell_type": "code",
   "execution_count": 7,
   "id": "99f2e191",
   "metadata": {},
   "outputs": [],
   "source": [
    "# 3. Modeling using CART"
   ]
  },
  {
   "cell_type": "code",
   "execution_count": 8,
   "id": "79f28549",
   "metadata": {},
   "outputs": [],
   "source": [
    "df = pd.read_csv(\"OneDrive/diabetes.csv\")"
   ]
  },
  {
   "cell_type": "code",
   "execution_count": 9,
   "id": "5aab0395",
   "metadata": {},
   "outputs": [],
   "source": [
    "y = df[\"Outcome\"]  #bağımlı değişken\n",
    "X = df.drop([\"Outcome\"], axis=1)  #bağımsız değişkenler"
   ]
  },
  {
   "cell_type": "code",
   "execution_count": 10,
   "id": "61bac0dc",
   "metadata": {},
   "outputs": [],
   "source": [
    "cart_model = DecisionTreeClassifier(random_state=1).fit(X, y)\n",
    "\n",
    "#model kuruldu"
   ]
  },
  {
   "cell_type": "code",
   "execution_count": 11,
   "id": "6af5e2f9",
   "metadata": {},
   "outputs": [],
   "source": [
    "#tahmin edilen değerleri hesaplayalım \n",
    "\n",
    "# Confusion matrix için y_pred:\n",
    "y_pred = cart_model.predict(X)"
   ]
  },
  {
   "cell_type": "code",
   "execution_count": 12,
   "id": "bae6f8a8",
   "metadata": {},
   "outputs": [],
   "source": [
    "# AUC için y_prob:\n",
    "y_prob = cart_model.predict_proba(X)[:, 1]"
   ]
  },
  {
   "cell_type": "code",
   "execution_count": 13,
   "id": "43e32e86",
   "metadata": {},
   "outputs": [
    {
     "name": "stdout",
     "output_type": "stream",
     "text": [
      "              precision    recall  f1-score   support\n",
      "\n",
      "           0       1.00      1.00      1.00       500\n",
      "           1       1.00      1.00      1.00       268\n",
      "\n",
      "    accuracy                           1.00       768\n",
      "   macro avg       1.00      1.00      1.00       768\n",
      "weighted avg       1.00      1.00      1.00       768\n",
      "\n"
     ]
    }
   ],
   "source": [
    "#başarımızı kontrol edelim \n",
    "\n",
    "# Confusion matrix\n",
    "print(classification_report(y, y_pred))"
   ]
  },
  {
   "cell_type": "code",
   "execution_count": 14,
   "id": "323a4017",
   "metadata": {},
   "outputs": [
    {
     "data": {
      "text/plain": [
       "1.0"
      ]
     },
     "execution_count": 14,
     "metadata": {},
     "output_type": "execute_result"
    }
   ],
   "source": [
    "# AUC\n",
    "roc_auc_score(y, y_prob)"
   ]
  },
  {
   "cell_type": "code",
   "execution_count": 15,
   "id": "b4f2be81",
   "metadata": {},
   "outputs": [],
   "source": [
    "#başarı 1 çıkıyor, bir soru işaretimiz var, overfit olmuş olabilir"
   ]
  },
  {
   "cell_type": "code",
   "execution_count": 16,
   "id": "7e0d1cd3",
   "metadata": {},
   "outputs": [],
   "source": [
    "# Holdout Yöntemi ile Başarı Değerlendirme\n",
    "\n",
    "\n",
    "#test seti ve train seti olarak verisetini ikiye ayıracağız"
   ]
  },
  {
   "cell_type": "code",
   "execution_count": 17,
   "id": "2d189cb5",
   "metadata": {},
   "outputs": [],
   "source": [
    "X_train, X_test, y_train, y_test = train_test_split(X, y, test_size=0.30, random_state=17)\n",
    "\n",
    "#%30 test %70 train dedik"
   ]
  },
  {
   "cell_type": "code",
   "execution_count": 18,
   "id": "8c4e95b6",
   "metadata": {},
   "outputs": [],
   "source": [
    "#train setiyle model kurup test setiyle test edeceğiz"
   ]
  },
  {
   "cell_type": "code",
   "execution_count": 19,
   "id": "cb056484",
   "metadata": {},
   "outputs": [],
   "source": [
    "cart_model = DecisionTreeClassifier(random_state=17).fit(X_train, y_train)\n",
    "\n",
    "#model kuruldu"
   ]
  },
  {
   "cell_type": "code",
   "execution_count": 20,
   "id": "b5d0f482",
   "metadata": {},
   "outputs": [
    {
     "name": "stdout",
     "output_type": "stream",
     "text": [
      "              precision    recall  f1-score   support\n",
      "\n",
      "           0       1.00      1.00      1.00       350\n",
      "           1       1.00      1.00      1.00       187\n",
      "\n",
      "    accuracy                           1.00       537\n",
      "   macro avg       1.00      1.00      1.00       537\n",
      "weighted avg       1.00      1.00      1.00       537\n",
      "\n"
     ]
    },
    {
     "data": {
      "text/plain": [
       "1.0"
      ]
     },
     "execution_count": 20,
     "metadata": {},
     "output_type": "execute_result"
    }
   ],
   "source": [
    "# Train Hatası\n",
    "y_pred = cart_model.predict(X_train)\n",
    "y_prob = cart_model.predict_proba(X_train)[:, 1]\n",
    "print(classification_report(y_train, y_pred))\n",
    "roc_auc_score(y_train, y_prob)"
   ]
  },
  {
   "cell_type": "code",
   "execution_count": 21,
   "id": "81e08c28",
   "metadata": {},
   "outputs": [
    {
     "name": "stdout",
     "output_type": "stream",
     "text": [
      "              precision    recall  f1-score   support\n",
      "\n",
      "           0       0.77      0.78      0.77       150\n",
      "           1       0.58      0.57      0.58        81\n",
      "\n",
      "    accuracy                           0.71       231\n",
      "   macro avg       0.68      0.67      0.67       231\n",
      "weighted avg       0.70      0.71      0.70       231\n",
      "\n"
     ]
    },
    {
     "data": {
      "text/plain": [
       "0.6739506172839506"
      ]
     },
     "execution_count": 21,
     "metadata": {},
     "output_type": "execute_result"
    }
   ],
   "source": [
    "# Test Hatası\n",
    "y_pred = cart_model.predict(X_test)\n",
    "y_prob = cart_model.predict_proba(X_test)[:, 1]\n",
    "print(classification_report(y_test, y_pred))\n",
    "roc_auc_score(y_test, y_prob)"
   ]
  },
  {
   "cell_type": "code",
   "execution_count": 22,
   "id": "82908341",
   "metadata": {},
   "outputs": [],
   "source": [
    "#sonuç : model, eğitildiği veride yüksek performans gösterdi ama görmediği veride değerler düştü\n",
    "#model train setini ezberledi , overfit oldu\n",
    "\n",
    "#random_state'i 45 yapıp denediğimde değerler 0.2 , 0.3 düşüyor\n",
    "#çapraz doğrulama yoluna gideceğiz"
   ]
  },
  {
   "cell_type": "code",
   "execution_count": 23,
   "id": "fb9ce37e",
   "metadata": {},
   "outputs": [],
   "source": [
    "# CV ile Başarı Değerlendirme"
   ]
  },
  {
   "cell_type": "code",
   "execution_count": 24,
   "id": "50fbd607",
   "metadata": {},
   "outputs": [],
   "source": [
    "cart_model = DecisionTreeClassifier(random_state=17).fit(X, y)\n",
    "\n",
    "#model kuruldu"
   ]
  },
  {
   "cell_type": "code",
   "execution_count": 25,
   "id": "abb93a5d",
   "metadata": {},
   "outputs": [],
   "source": [
    "cv_results = cross_validate(cart_model,\n",
    "                            X, y,\n",
    "                            cv=5,\n",
    "                            scoring=[\"accuracy\", \"f1\", \"roc_auc\"])"
   ]
  },
  {
   "cell_type": "code",
   "execution_count": 26,
   "id": "ebe000d5",
   "metadata": {},
   "outputs": [
    {
     "data": {
      "text/plain": [
       "0.7058568882098294"
      ]
     },
     "execution_count": 26,
     "metadata": {},
     "output_type": "execute_result"
    }
   ],
   "source": [
    "cv_results['test_accuracy'].mean()\n",
    "# 0.705856888209829"
   ]
  },
  {
   "cell_type": "code",
   "execution_count": 27,
   "id": "6570bd54",
   "metadata": {},
   "outputs": [
    {
     "data": {
      "text/plain": [
       "0.5710621194523633"
      ]
     },
     "execution_count": 27,
     "metadata": {},
     "output_type": "execute_result"
    }
   ],
   "source": [
    "cv_results['test_f1'].mean()\n",
    "# 0.5710621194523633"
   ]
  },
  {
   "cell_type": "code",
   "execution_count": 28,
   "id": "1aabd910",
   "metadata": {},
   "outputs": [
    {
     "data": {
      "text/plain": [
       "0.6719440950384347"
      ]
     },
     "execution_count": 28,
     "metadata": {},
     "output_type": "execute_result"
    }
   ],
   "source": [
    "cv_results['test_roc_auc'].mean()\n",
    "# 0.6719440950384347"
   ]
  },
  {
   "cell_type": "code",
   "execution_count": 29,
   "id": "6e50199b",
   "metadata": {},
   "outputs": [],
   "source": [
    "# 4. Hyperparameter Optimization with GridSearchCV"
   ]
  },
  {
   "cell_type": "code",
   "execution_count": 30,
   "id": "99128e9d",
   "metadata": {},
   "outputs": [
    {
     "data": {
      "text/plain": [
       "{'ccp_alpha': 0.0,\n",
       " 'class_weight': None,\n",
       " 'criterion': 'gini',\n",
       " 'max_depth': None,\n",
       " 'max_features': None,\n",
       " 'max_leaf_nodes': None,\n",
       " 'min_impurity_decrease': 0.0,\n",
       " 'min_samples_leaf': 1,\n",
       " 'min_samples_split': 2,\n",
       " 'min_weight_fraction_leaf': 0.0,\n",
       " 'random_state': 17,\n",
       " 'splitter': 'best'}"
      ]
     },
     "execution_count": 30,
     "metadata": {},
     "output_type": "execute_result"
    }
   ],
   "source": [
    "cart_model.get_params()\n",
    "\n",
    "#mevcut modelin hiperparametreleri nelerdi?"
   ]
  },
  {
   "cell_type": "code",
   "execution_count": 31,
   "id": "1d058f61",
   "metadata": {},
   "outputs": [],
   "source": [
    "#bizim için önemli olan = 'min_samples_split' ön tanımlı değeri 2, o zaman 2 tane kalana kadar bölme işlemine devam\n",
    "#ediyor, overfit'e neden olan hiperparametrelerden birisi\n",
    "\n",
    "#'max_depth' de bizi ilgilendiriyor bir ağacın derinliği ile ilgili bir hiperparametre"
   ]
  },
  {
   "cell_type": "code",
   "execution_count": 32,
   "id": "a9c4fe11",
   "metadata": {},
   "outputs": [],
   "source": [
    "cart_params = {'max_depth': range(1, 11),\n",
    "               \"min_samples_split\": range(2, 20)}"
   ]
  },
  {
   "cell_type": "code",
   "execution_count": 33,
   "id": "6026c266",
   "metadata": {},
   "outputs": [
    {
     "name": "stdout",
     "output_type": "stream",
     "text": [
      "Fitting 5 folds for each of 180 candidates, totalling 900 fits\n"
     ]
    }
   ],
   "source": [
    "cart_best_grid = GridSearchCV(cart_model,\n",
    "                              cart_params,\n",
    "                              cv=5,\n",
    "                              n_jobs=-1,\n",
    "                              verbose=1).fit(X, y)\n",
    "\n",
    "#n_jobs=-1, işlemcinin performansını artırmak için\n",
    "#verbose=1, raporlama yapması için"
   ]
  },
  {
   "cell_type": "code",
   "execution_count": 34,
   "id": "8c2f4641",
   "metadata": {},
   "outputs": [
    {
     "data": {
      "text/plain": [
       "{'max_depth': 5, 'min_samples_split': 4}"
      ]
     },
     "execution_count": 34,
     "metadata": {},
     "output_type": "execute_result"
    }
   ],
   "source": [
    "cart_best_grid.best_params_"
   ]
  },
  {
   "cell_type": "code",
   "execution_count": 35,
   "id": "dfe8d63b",
   "metadata": {},
   "outputs": [
    {
     "data": {
      "text/plain": [
       "0.7500806383159324"
      ]
     },
     "execution_count": 35,
     "metadata": {},
     "output_type": "execute_result"
    }
   ],
   "source": [
    "cart_best_grid.best_score_"
   ]
  },
  {
   "cell_type": "code",
   "execution_count": 36,
   "id": "fa2043d1",
   "metadata": {},
   "outputs": [
    {
     "name": "stdout",
     "output_type": "stream",
     "text": [
      "Fitting 5 folds for each of 180 candidates, totalling 900 fits\n"
     ]
    }
   ],
   "source": [
    "#scoring ekleyeğiz, normalde ön tanımlı değeri accuracy ama değiştirebiliriz\n",
    "#yapmak zorunda değiliz özelliği bilelim yeterli\n",
    "\n",
    "cart_best_grid = GridSearchCV(cart_model,\n",
    "                              cart_params,\n",
    "                              scoring=\"f1\",\n",
    "                              cv=5,\n",
    "                              n_jobs=-1,\n",
    "                              verbose=1).fit(X, y)"
   ]
  },
  {
   "cell_type": "code",
   "execution_count": 37,
   "id": "f8158970",
   "metadata": {},
   "outputs": [
    {
     "data": {
      "text/plain": [
       "{'max_depth': 4, 'min_samples_split': 2}"
      ]
     },
     "execution_count": 37,
     "metadata": {},
     "output_type": "execute_result"
    }
   ],
   "source": [
    "cart_best_grid.best_params_\n",
    "\n",
    "#değişti"
   ]
  },
  {
   "cell_type": "code",
   "execution_count": 38,
   "id": "d2757eb4",
   "metadata": {},
   "outputs": [
    {
     "data": {
      "text/plain": [
       "0.6395752751155839"
      ]
     },
     "execution_count": 38,
     "metadata": {},
     "output_type": "execute_result"
    }
   ],
   "source": [
    "cart_best_grid.best_score_\n",
    "\n",
    "#değişti"
   ]
  },
  {
   "cell_type": "code",
   "execution_count": 39,
   "id": "38b51efe",
   "metadata": {},
   "outputs": [],
   "source": [
    "#değişkenleri standartlaştırmadık, ağaç yönteminde standartlaştırmaya ihtiyacımız yok\n",
    "#çünkü bağımsız değişkenler küçükten büyüğe sıralandıktan sonra değerlerinden bölünüyor"
   ]
  },
  {
   "cell_type": "code",
   "execution_count": 40,
   "id": "beaa7c50",
   "metadata": {},
   "outputs": [
    {
     "data": {
      "text/html": [
       "<div>\n",
       "<style scoped>\n",
       "    .dataframe tbody tr th:only-of-type {\n",
       "        vertical-align: middle;\n",
       "    }\n",
       "\n",
       "    .dataframe tbody tr th {\n",
       "        vertical-align: top;\n",
       "    }\n",
       "\n",
       "    .dataframe thead th {\n",
       "        text-align: right;\n",
       "    }\n",
       "</style>\n",
       "<table border=\"1\" class=\"dataframe\">\n",
       "  <thead>\n",
       "    <tr style=\"text-align: right;\">\n",
       "      <th></th>\n",
       "      <th>Pregnancies</th>\n",
       "      <th>Glucose</th>\n",
       "      <th>BloodPressure</th>\n",
       "      <th>SkinThickness</th>\n",
       "      <th>Insulin</th>\n",
       "      <th>BMI</th>\n",
       "      <th>DiabetesPedigreeFunction</th>\n",
       "      <th>Age</th>\n",
       "    </tr>\n",
       "  </thead>\n",
       "  <tbody>\n",
       "    <tr>\n",
       "      <th>195</th>\n",
       "      <td>5</td>\n",
       "      <td>158</td>\n",
       "      <td>84</td>\n",
       "      <td>41</td>\n",
       "      <td>210</td>\n",
       "      <td>39.4</td>\n",
       "      <td>0.395</td>\n",
       "      <td>29</td>\n",
       "    </tr>\n",
       "  </tbody>\n",
       "</table>\n",
       "</div>"
      ],
      "text/plain": [
       "     Pregnancies  Glucose  BloodPressure  SkinThickness  Insulin   BMI  \\\n",
       "195            5      158             84             41      210  39.4   \n",
       "\n",
       "     DiabetesPedigreeFunction  Age  \n",
       "195                     0.395   29  "
      ]
     },
     "execution_count": 40,
     "metadata": {},
     "output_type": "execute_result"
    }
   ],
   "source": [
    "#rastgele bir gözlem seçelim\n",
    "\n",
    "random = X.sample(1, random_state=45)\n",
    "random"
   ]
  },
  {
   "cell_type": "code",
   "execution_count": 41,
   "id": "634f5c48",
   "metadata": {},
   "outputs": [
    {
     "data": {
      "text/plain": [
       "array([1], dtype=int64)"
      ]
     },
     "execution_count": 41,
     "metadata": {},
     "output_type": "execute_result"
    }
   ],
   "source": [
    "#bunu modele soralım\n",
    "cart_best_grid.predict(random)"
   ]
  },
  {
   "cell_type": "code",
   "execution_count": 42,
   "id": "83ba7cfe",
   "metadata": {},
   "outputs": [],
   "source": [
    "cart_final = DecisionTreeClassifier(**cart_best_grid.best_params_, random_state=17).fit(X, y)\n",
    "\n",
    "#final modeli kuruldu"
   ]
  },
  {
   "cell_type": "code",
   "execution_count": 43,
   "id": "7247f0b7",
   "metadata": {},
   "outputs": [
    {
     "data": {
      "text/plain": [
       "{'ccp_alpha': 0.0,\n",
       " 'class_weight': None,\n",
       " 'criterion': 'gini',\n",
       " 'max_depth': 4,\n",
       " 'max_features': None,\n",
       " 'max_leaf_nodes': None,\n",
       " 'min_impurity_decrease': 0.0,\n",
       " 'min_samples_leaf': 1,\n",
       " 'min_samples_split': 2,\n",
       " 'min_weight_fraction_leaf': 0.0,\n",
       " 'random_state': 17,\n",
       " 'splitter': 'best'}"
      ]
     },
     "execution_count": 43,
     "metadata": {},
     "output_type": "execute_result"
    }
   ],
   "source": [
    "cart_final.get_params()\n",
    "\n",
    "#parametrelerimize bakalım\n",
    "#odaklandıklarımız : 'max_depth' ve 'min_samples_split'"
   ]
  },
  {
   "cell_type": "code",
   "execution_count": 44,
   "id": "015f9331",
   "metadata": {},
   "outputs": [],
   "source": [
    "#en iyi parametreleri modele atamanın bir diğer yolu\n",
    "\n",
    "cart_final = cart_model.set_params(**cart_best_grid.best_params_).fit(X, y)\n",
    "\n",
    "#var olan bir modeli set_params'ı kullanarak final modeli şeklinde oluşturabiliriz"
   ]
  },
  {
   "cell_type": "code",
   "execution_count": 45,
   "id": "cd128f1e",
   "metadata": {},
   "outputs": [],
   "source": [
    "cv_results = cross_validate(cart_final,\n",
    "                            X, y,\n",
    "                            cv=5,\n",
    "                            scoring=[\"accuracy\", \"f1\", \"roc_auc\"])\n",
    "\n",
    "#final modelin cross validation hatalarına bakalım"
   ]
  },
  {
   "cell_type": "code",
   "execution_count": 46,
   "id": "354b0151",
   "metadata": {},
   "outputs": [
    {
     "data": {
      "text/plain": [
       "0.7305237246413717"
      ]
     },
     "execution_count": 46,
     "metadata": {},
     "output_type": "execute_result"
    }
   ],
   "source": [
    "cv_results['test_accuracy'].mean()"
   ]
  },
  {
   "cell_type": "code",
   "execution_count": 47,
   "id": "3494fda3",
   "metadata": {},
   "outputs": [
    {
     "data": {
      "text/plain": [
       "0.6395752751155839"
      ]
     },
     "execution_count": 47,
     "metadata": {},
     "output_type": "execute_result"
    }
   ],
   "source": [
    "cv_results['test_f1'].mean()"
   ]
  },
  {
   "cell_type": "code",
   "execution_count": 48,
   "id": "465be06f",
   "metadata": {},
   "outputs": [
    {
     "data": {
      "text/plain": [
       "0.7880422781271837"
      ]
     },
     "execution_count": 48,
     "metadata": {},
     "output_type": "execute_result"
    }
   ],
   "source": [
    "cv_results['test_roc_auc'].mean()"
   ]
  },
  {
   "cell_type": "code",
   "execution_count": 49,
   "id": "4b5b1e65",
   "metadata": {},
   "outputs": [],
   "source": [
    "# 6. Feature Importance (Özellik Önemi)"
   ]
  },
  {
   "cell_type": "code",
   "execution_count": 50,
   "id": "8a5ccd49",
   "metadata": {},
   "outputs": [
    {
     "data": {
      "text/plain": [
       "array([0.        , 0.57356884, 0.01036258, 0.        , 0.01795319,\n",
       "       0.25386917, 0.        , 0.14424622])"
      ]
     },
     "execution_count": 50,
     "metadata": {},
     "output_type": "execute_result"
    }
   ],
   "source": [
    "cart_final.feature_importances_\n",
    "\n",
    "#değişkenlerin önem düzeyleri geldi ama bizim anlayabileceğimiz formatta değil"
   ]
  },
  {
   "cell_type": "code",
   "execution_count": 84,
   "id": "cfefdeec",
   "metadata": {},
   "outputs": [
    {
     "data": {
      "image/png": "[encoded data removed]",
      "text/plain": [
       "<Figure size 1000x1000 with 1 Axes>"
      ]
     },
     "metadata": {},
     "output_type": "display_data"
    }
   ],
   "source": [
    "def plot_importance(model, features, num=len(X), save=False):\n",
    "    \n",
    "    #feature_importances özelliği ve features.columns'u burada tuttuk ve dataframe'e çevirdik\n",
    "    feature_imp = pd.DataFrame({'Value': model.feature_importances_, 'Feature': features.columns})\n",
    "    \n",
    "    #daha sonra bunları sütun grafik ile görselleştirdik\n",
    "    plt.figure(figsize=(10, 10))\n",
    "    sns.set(font_scale=1)\n",
    "    \n",
    "    #küçükten büyüğe doğru sıraladıktan sonra azalan şekilde görselleştirdik\n",
    "    #num argümanı değişken sayısını veriyor\n",
    "    sns.barplot(x=\"Value\", y=\"Feature\", data=feature_imp.sort_values(by=\"Value\",\n",
    "                                                                     ascending=False)[0:num])\n",
    "    plt.title('Features')\n",
    "    plt.tight_layout()\n",
    "    plt.show()\n",
    "    \n",
    "    #kaydetmek istersek save argümanını true yaparız, ön tanımlı değeri false\n",
    "    if save:\n",
    "        plt.savefig('importances.png')\n",
    "\n",
    "\n",
    "plot_importance(cart_final, X)"
   ]
  },
  {
   "cell_type": "code",
   "execution_count": 52,
   "id": "ddb42151",
   "metadata": {},
   "outputs": [],
   "source": [
    "# 7. Analyzing Model Complexity with Learning Curves (BONUS)\n",
    "# (öğrenme eğrileriyle model karmaşıklığını analiz etme)"
   ]
  },
  {
   "cell_type": "code",
   "execution_count": 53,
   "id": "6eaacf31",
   "metadata": {},
   "outputs": [],
   "source": [
    "#model karmaşıklığı arttıkça train setinin hatasının düştüğünü, test setinin hatasının da bir noktaya kadar düştükten sonra\n",
    "#artmaya başladığını gözlemlemiştik\n",
    "#overfit'e düştü mü sorusunun yanıtı train seti ile test setinin farklarının ayrışmaya başladığı noktadır\n",
    "#bunun önüne geçmek için model karmaşıklığı azaltılabilir"
   ]
  },
  {
   "cell_type": "code",
   "execution_count": 54,
   "id": "44d5c3ca",
   "metadata": {},
   "outputs": [],
   "source": [
    "train_score, test_score = validation_curve(cart_final, X, y,\n",
    "                                           param_name=\"max_depth\",\n",
    "                                           param_range=range(1, 11),\n",
    "                                           scoring=\"roc_auc\",\n",
    "                                           cv=10);\n",
    "\n",
    "#validation_curve metodunu kullandık"
   ]
  },
  {
   "cell_type": "code",
   "execution_count": 55,
   "id": "3dc2079a",
   "metadata": {},
   "outputs": [
    {
     "data": {
      "text/plain": [
       "array([[0.72320885, 0.72306132, 0.68555095, 0.72350392, 0.71698479,\n",
       "        0.7011941 , 0.66131397, 0.71142923, 0.71549128, 0.71120294],\n",
       "       [0.7987598 , 0.79874136, 0.76659751, 0.8000461 , 0.80217151,\n",
       "        0.77901798, 0.76472568, 0.79175657, 0.80145087, 0.79440771],\n",
       "       [0.84255417, 0.84810512, 0.82195943, 0.84559705, 0.8434532 ,\n",
       "        0.81859843, 0.82218534, 0.83455048, 0.8413315 , 0.84593664],\n",
       "       [0.8834947 , 0.88264638, 0.86355002, 0.88926233, 0.88226372,\n",
       "        0.87104195, 0.86404334, 0.87285846, 0.87436639, 0.87684114],\n",
       "       [0.91531581, 0.91534348, 0.90082988, 0.9263255 , 0.9175242 ,\n",
       "        0.90534809, 0.88781466, 0.90936376, 0.91214417, 0.90738751],\n",
       "       [0.94068234, 0.94757953, 0.9329645 , 0.94803596, 0.94784693,\n",
       "        0.93404334, 0.91412633, 0.93506224, 0.94156107, 0.93325987],\n",
       "       [0.968497  , 0.97154449, 0.9551314 , 0.97166436, 0.97018442,\n",
       "        0.96088981, 0.94568465, 0.96332411, 0.96393939, 0.95954086],\n",
       "       [0.98405256, 0.98909175, 0.97707238, 0.98819272, 0.98378054,\n",
       "        0.97603965, 0.96411249, 0.97997234, 0.98396694, 0.97838843],\n",
       "       [0.99345781, 0.99550023, 0.99134163, 0.99484555, 0.99403873,\n",
       "        0.98927155, 0.97904103, 0.99317658, 0.9922865 , 0.99265381],\n",
       "       [0.99786538, 0.99856155, 0.99735362, 0.99743661, 0.99693868,\n",
       "        0.99552789, 0.99170586, 0.99762563, 0.99718549, 0.99770891]])"
      ]
     },
     "execution_count": 55,
     "metadata": {},
     "output_type": "execute_result"
    }
   ],
   "source": [
    "train_score"
   ]
  },
  {
   "cell_type": "code",
   "execution_count": 56,
   "id": "db283edc",
   "metadata": {},
   "outputs": [
    {
     "data": {
      "text/plain": [
       "array([[0.64777778, 0.64925926, 0.68074074, 0.64481481, 0.64222222,\n",
       "        0.68481481, 0.63666667, 0.75333333, 0.71692308, 0.75615385],\n",
       "       [0.73407407, 0.74888889, 0.73555556, 0.71592593, 0.61703704,\n",
       "        0.77777778, 0.70481481, 0.82555556, 0.74615385, 0.80038462],\n",
       "       [0.78407407, 0.81333333, 0.77222222, 0.68296296, 0.69296296,\n",
       "        0.82925926, 0.79259259, 0.85814815, 0.72615385, 0.80807692],\n",
       "       [0.76481481, 0.81148148, 0.74962963, 0.60740741, 0.70888889,\n",
       "        0.82111111, 0.83851852, 0.87333333, 0.77038462, 0.81961538],\n",
       "       [0.73444444, 0.78666667, 0.77148148, 0.60037037, 0.71925926,\n",
       "        0.84814815, 0.77037037, 0.88296296, 0.75730769, 0.81769231],\n",
       "       [0.72814815, 0.77962963, 0.70111111, 0.59481481, 0.76259259,\n",
       "        0.82740741, 0.81074074, 0.83185185, 0.76038462, 0.77692308],\n",
       "       [0.74222222, 0.73185185, 0.71296296, 0.5537037 , 0.71851852,\n",
       "        0.74296296, 0.81185185, 0.8462963 , 0.71076923, 0.75461538],\n",
       "       [0.74481481, 0.69407407, 0.69259259, 0.54296296, 0.63481481,\n",
       "        0.74296296, 0.80296296, 0.78777778, 0.70576923, 0.76307692],\n",
       "       [0.6662963 , 0.67740741, 0.66888889, 0.52777778, 0.62185185,\n",
       "        0.73925926, 0.80333333, 0.75814815, 0.62576923, 0.69384615],\n",
       "       [0.65518519, 0.67222222, 0.72444444, 0.52703704, 0.60592593,\n",
       "        0.74888889, 0.78074074, 0.80259259, 0.70230769, 0.70269231]])"
      ]
     },
     "execution_count": 56,
     "metadata": {},
     "output_type": "execute_result"
    }
   ],
   "source": [
    "test_score\n",
    "\n",
    "#ikisi için de 10 tane parametrenin hata değerleri geldi"
   ]
  },
  {
   "cell_type": "code",
   "execution_count": 57,
   "id": "947cf5fa",
   "metadata": {},
   "outputs": [
    {
     "data": {
      "text/plain": [
       "array([0.70729413, 0.78976751, 0.83642714, 0.87603684, 0.90973971,\n",
       "       0.93751621, 0.96304005, 0.98046698, 0.99156134, 0.99679096])"
      ]
     },
     "execution_count": 57,
     "metadata": {},
     "output_type": "execute_result"
    }
   ],
   "source": [
    "mean_train_score = np.mean(train_score, axis=1)\n",
    "mean_train_score"
   ]
  },
  {
   "cell_type": "code",
   "execution_count": 58,
   "id": "77de5c63",
   "metadata": {},
   "outputs": [
    {
     "data": {
      "text/plain": [
       "array([0.68127066, 0.74061681, 0.77597863, 0.77651852, 0.76887037,\n",
       "       0.7573604 , 0.7325755 , 0.71118091, 0.67825783, 0.6922037 ])"
      ]
     },
     "execution_count": 58,
     "metadata": {},
     "output_type": "execute_result"
    }
   ],
   "source": [
    "mean_test_score = np.mean(test_score, axis=1)\n",
    "mean_test_score"
   ]
  },
  {
   "cell_type": "code",
   "execution_count": 70,
   "id": "2403d8fd",
   "metadata": {},
   "outputs": [
    {
     "data": {
      "image/png": "[encoded data removed]",
      "text/plain": [
       "<Figure size 640x480 with 1 Axes>"
      ]
     },
     "metadata": {},
     "output_type": "display_data"
    }
   ],
   "source": [
    "#train setini görselleştiriyorum\n",
    "plt.plot(range(1, 11), mean_train_score,\n",
    "         label=\"Training Score\", color='b')\n",
    "\n",
    "#validasyon (test) setini görselleştiriyorum\n",
    "plt.plot(range(1, 11), mean_test_score,\n",
    "         label=\"Validation Score\", color='g')\n",
    "\n",
    "plt.title(\"Validation Curve for CART\")\n",
    "plt.xlabel(\"Number of max_depth\")\n",
    "plt.ylabel(\"AUC\")\n",
    "plt.tight_layout()\n",
    "plt.legend(loc='best')\n",
    "plt.show()"
   ]
  },
  {
   "cell_type": "code",
   "execution_count": 71,
   "id": "b9ba6940",
   "metadata": {},
   "outputs": [],
   "source": [
    "#görüyoruz ki 3ten sonra test seti, train seti ezberlemeye başladığını ve model karmaşıklığı artıkça genellenebilirlik\n",
    "#yeteneğini kaybettiğini fark ediyor ve yolunu ayırıyor\n",
    "\n",
    "#daha önce hiperparametrelerle ilgili bölümde seçtiğimiz max_depth 5 gib bir şeydi. diğeri de 4 gibi bir şeydi\n",
    "#bu grafiğe göre baktığımızda max_depth 3 mü olmalı?\n",
    "#model kurduğumuzda tüm değişkenleri çok değişkenli olarak değerlendiriyoruz\n",
    "#yani burada fikir ediniyoruz tek başına buraya bakmıyoruz\n",
    "#tutarlı gibi görünüyor çünkü çok ciddi bir fark yok"
   ]
  },
  {
   "cell_type": "code",
   "execution_count": 72,
   "id": "2f072ab8",
   "metadata": {},
   "outputs": [
    {
     "data": {
      "image/png": "[encoded data removed]",
      "text/plain": [
       "<Figure size 640x480 with 1 Axes>"
      ]
     },
     "metadata": {},
     "output_type": "display_data"
    }
   ],
   "source": [
    "#buradaki işlemleri fonksiyonlaştıralım\n",
    "\n",
    "def val_curve_params(model, X, y, param_name, param_range, scoring=\"roc_auc\", cv=10):\n",
    "    train_score, test_score = validation_curve(\n",
    "        model, X=X, y=y, param_name=param_name, param_range=param_range, scoring=scoring, cv=cv)\n",
    "\n",
    "    mean_train_score = np.mean(train_score, axis=1)\n",
    "    mean_test_score = np.mean(test_score, axis=1)\n",
    "\n",
    "    plt.plot(param_range, mean_train_score,\n",
    "             label=\"Training Score\", color='b')\n",
    "\n",
    "    plt.plot(param_range, mean_test_score,\n",
    "             label=\"Validation Score\", color='g')\n",
    "\n",
    "    plt.title(f\"Validation Curve for {type(model).__name__}\")\n",
    "    plt.xlabel(f\"Number of {param_name}\")\n",
    "    plt.ylabel(f\"{scoring}\")\n",
    "    plt.tight_layout()\n",
    "    plt.legend(loc='best')\n",
    "    plt.show(block=True)\n",
    "    \n",
    "val_curve_params(cart_final, X, y, \"max_depth\", range(1, 11))"
   ]
  },
  {
   "cell_type": "code",
   "execution_count": 73,
   "id": "71829b9e",
   "metadata": {},
   "outputs": [
    {
     "data": {
      "image/png": "[encoded data removed]",
      "text/plain": [
       "<Figure size 640x480 with 1 Axes>"
      ]
     },
     "metadata": {},
     "output_type": "display_data"
    }
   ],
   "source": [
    "val_curve_params(cart_final, X, y, \"max_depth\", range(1, 11), scoring=\"f1\")"
   ]
  },
  {
   "cell_type": "code",
   "execution_count": 74,
   "id": "b14767b6",
   "metadata": {},
   "outputs": [],
   "source": [
    "#birden fazla hiperparametre seti olduğunda ne yaparız? \n",
    "\n",
    "cart_val_params = [[\"max_depth\", range(1, 11)], [\"min_samples_split\", range(2, 20)]]"
   ]
  },
  {
   "cell_type": "code",
   "execution_count": 75,
   "id": "2bad9ff4",
   "metadata": {},
   "outputs": [
    {
     "data": {
      "image/png": "[encoded data removed]",
      "text/plain": [
       "<Figure size 640x480 with 1 Axes>"
      ]
     },
     "metadata": {},
     "output_type": "display_data"
    },
    {
     "data": {
      "image/png": "[encoded data removed]",
      "text/plain": [
       "<Figure size 640x480 with 1 Axes>"
      ]
     },
     "metadata": {},
     "output_type": "display_data"
    }
   ],
   "source": [
    "#şimdi bu liste içinde gezip val_curve_params fonksiyonunu uygulamamız lazım\n",
    "\n",
    "for i in range(len(cart_val_params)):\n",
    "    val_curve_params(cart_model, X, y, cart_val_params[i][0], cart_val_params[i][1])"
   ]
  },
  {
   "cell_type": "code",
   "execution_count": 76,
   "id": "d55ed3f0",
   "metadata": {},
   "outputs": [],
   "source": [
    "# 8. Visualizing the Decision Tree"
   ]
  },
  {
   "cell_type": "code",
   "execution_count": 77,
   "id": "be086db8",
   "metadata": {},
   "outputs": [],
   "source": [
    "def tree_graph(model, col_names, file_name):\n",
    "    tree_str = export_graphviz(model, feature_names=col_names, filled=True, out_file=None)\n",
    "    graph = pydotplus.graph_from_dot_data(tree_str)\n",
    "    graph.write_png(file_name)"
   ]
  },
  {
   "cell_type": "code",
   "execution_count": 78,
   "id": "f8b85521",
   "metadata": {
    "scrolled": true
   },
   "outputs": [],
   "source": [
    "tree_graph(model=cart_final, col_names=X.columns, file_name=\"cart_final.png\")\n",
    "\n",
    "#png dosyasını kaydetti"
   ]
  },
  {
   "cell_type": "code",
   "execution_count": 79,
   "id": "b5f119b2",
   "metadata": {},
   "outputs": [
    {
     "data": {
      "text/plain": [
       "{'ccp_alpha': 0.0,\n",
       " 'class_weight': None,\n",
       " 'criterion': 'gini',\n",
       " 'max_depth': 4,\n",
       " 'max_features': None,\n",
       " 'max_leaf_nodes': None,\n",
       " 'min_impurity_decrease': 0.0,\n",
       " 'min_samples_leaf': 1,\n",
       " 'min_samples_split': 2,\n",
       " 'min_weight_fraction_leaf': 0.0,\n",
       " 'random_state': 17,\n",
       " 'splitter': 'best'}"
      ]
     },
     "execution_count": 79,
     "metadata": {},
     "output_type": "execute_result"
    }
   ],
   "source": [
    "cart_final.get_params()\n",
    "\n",
    "#max_depth : 5 , min_samples_split : 4 olmalıydı neden böyle çıktığını bulamadım bakacağım"
   ]
  },
  {
   "cell_type": "code",
   "execution_count": 82,
   "id": "a518a5c5",
   "metadata": {},
   "outputs": [],
   "source": [
    "# 9. Extracting Decision Rules (Karar kuralları)"
   ]
  },
  {
   "cell_type": "code",
   "execution_count": 85,
   "id": "92312254",
   "metadata": {},
   "outputs": [
    {
     "name": "stdout",
     "output_type": "stream",
     "text": [
      "|--- Glucose <= 127.50\n",
      "|   |--- Age <= 28.50\n",
      "|   |   |--- BMI <= 45.40\n",
      "|   |   |   |--- BMI <= 30.95\n",
      "|   |   |   |   |--- class: 0\n",
      "|   |   |   |--- BMI >  30.95\n",
      "|   |   |   |   |--- class: 0\n",
      "|   |   |--- BMI >  45.40\n",
      "|   |   |   |--- BloodPressure <= 99.00\n",
      "|   |   |   |   |--- class: 1\n",
      "|   |   |   |--- BloodPressure >  99.00\n",
      "|   |   |   |   |--- class: 0\n",
      "|   |--- Age >  28.50\n",
      "|   |   |--- BMI <= 26.35\n",
      "|   |   |   |--- BMI <= 9.65\n",
      "|   |   |   |   |--- class: 1\n",
      "|   |   |   |--- BMI >  9.65\n",
      "|   |   |   |   |--- class: 0\n",
      "|   |   |--- BMI >  26.35\n",
      "|   |   |   |--- Glucose <= 99.50\n",
      "|   |   |   |   |--- class: 0\n",
      "|   |   |   |--- Glucose >  99.50\n",
      "|   |   |   |   |--- class: 0\n",
      "|--- Glucose >  127.50\n",
      "|   |--- BMI <= 29.95\n",
      "|   |   |--- Glucose <= 145.50\n",
      "|   |   |   |--- Insulin <= 132.50\n",
      "|   |   |   |   |--- class: 0\n",
      "|   |   |   |--- Insulin >  132.50\n",
      "|   |   |   |   |--- class: 0\n",
      "|   |   |--- Glucose >  145.50\n",
      "|   |   |   |--- Age <= 25.50\n",
      "|   |   |   |   |--- class: 0\n",
      "|   |   |   |--- Age >  25.50\n",
      "|   |   |   |   |--- class: 1\n",
      "|   |--- BMI >  29.95\n",
      "|   |   |--- Glucose <= 157.50\n",
      "|   |   |   |--- Age <= 30.50\n",
      "|   |   |   |   |--- class: 0\n",
      "|   |   |   |--- Age >  30.50\n",
      "|   |   |   |   |--- class: 1\n",
      "|   |   |--- Glucose >  157.50\n",
      "|   |   |   |--- Insulin <= 629.50\n",
      "|   |   |   |   |--- class: 1\n",
      "|   |   |   |--- Insulin >  629.50\n",
      "|   |   |   |   |--- class: 0\n",
      "\n"
     ]
    }
   ],
   "source": [
    "tree_rules = export_text(cart_final, feature_names=list(X.columns))\n",
    "print(tree_rules)\n",
    "\n",
    "#export_text metodunu kullandık"
   ]
  },
  {
   "cell_type": "code",
   "execution_count": 86,
   "id": "22f1bc7c",
   "metadata": {},
   "outputs": [],
   "source": [
    "# 10. Extracting Python Codes of Decision Rules (Karar kurallarının python kodunu çıkartma)"
   ]
  },
  {
   "cell_type": "code",
   "execution_count": 87,
   "id": "0e7c95ab",
   "metadata": {},
   "outputs": [],
   "source": [
    "import sklearn"
   ]
  },
  {
   "cell_type": "code",
   "execution_count": 89,
   "id": "e1b995aa",
   "metadata": {},
   "outputs": [
    {
     "name": "stdout",
     "output_type": "stream",
     "text": [
      "((((0 if x[5] <= 30.949999809265137 else 0) if x[5] <= 45.39999961853027 else\n",
      "    1 if x[2] <= 99.0 else 0) if x[7] <= 28.5 else (1 if x[5] <= \n",
      "    9.649999618530273 else 0) if x[5] <= 26.350000381469727 else 0 if x[1] <=\n",
      "    99.5 else 0) if x[1] <= 127.5 else ((0 if x[4] <= 132.5 else 0) if x[1] <=\n",
      "    145.5 else 0 if x[7] <= 25.5 else 1) if x[5] <= 29.949999809265137 else\n",
      "    (0 if x[7] <= 30.5 else 1) if x[1] <= 157.5 else 1 if x[4] <= 629.5 else 0)\n",
      "\n"
     ]
    }
   ],
   "source": [
    "print(skompile(cart_final.predict).to('python/code'))\n",
    "\n",
    "#sayılar hocayla aynı çıkmadı"
   ]
  },
  {
   "cell_type": "code",
   "execution_count": 90,
   "id": "bfba8945",
   "metadata": {},
   "outputs": [
    {
     "name": "stdout",
     "output_type": "stream",
     "text": [
      "SELECT CASE WHEN (x2 <= 127.5) THEN CASE WHEN (x8 <= 28.5) THEN CASE WHEN (x6 <= 45.39999961853027) THEN 0 ELSE CASE WHEN (x3 <= 99.0) THEN 1 ELSE 0 END END ELSE CASE WHEN (x6 <= 26.350000381469727) THEN CASE WHEN (x6 <= 9.649999618530273) THEN 1 ELSE 0 END ELSE 0 END END ELSE CASE WHEN (x6 <= 29.949999809265137) THEN CASE WHEN (x2 <= 145.5) THEN 0 ELSE CASE WHEN (x8 <= 25.5) THEN 0 ELSE 1 END END ELSE CASE WHEN (x2 <= 157.5) THEN CASE WHEN (x8 <= 30.5) THEN 0 ELSE 1 END ELSE CASE WHEN (x5 <= 629.5) THEN 1 ELSE 0 END END END END AS y \n",
      "FROM data\n"
     ]
    }
   ],
   "source": [
    "print(skompile(cart_final.predict).to('sqlalchemy/sqlite'))\n",
    "\n",
    "#bu hocayla aynı çıktı"
   ]
  },
  {
   "cell_type": "code",
   "execution_count": 91,
   "id": "53da19f7",
   "metadata": {},
   "outputs": [
    {
     "name": "stdout",
     "output_type": "stream",
     "text": [
      "A1=IF((x2<=127.5),IF((x ...223 chars skipped... ((x5<=629.5),1,0))))\n"
     ]
    }
   ],
   "source": [
    "print(skompile(cart_final.predict).to('excel'))"
   ]
  },
  {
   "cell_type": "code",
   "execution_count": 92,
   "id": "1440290a",
   "metadata": {},
   "outputs": [],
   "source": [
    "# 11. Prediction using Python Codes"
   ]
  },
  {
   "cell_type": "code",
   "execution_count": 93,
   "id": "112096f5",
   "metadata": {},
   "outputs": [],
   "source": [
    "def predict_with_rules(x):\n",
    "    return ((((((0 if x[6] <= 0.671999990940094 else 1 if x[6] <= 0.6864999830722809 else\n",
    "        0) if x[0] <= 7.5 else 1) if x[5] <= 30.949999809265137 else ((1 if x[5\n",
    "        ] <= 32.45000076293945 else 1 if x[3] <= 10.5 else 0) if x[2] <= 53.0 else\n",
    "        ((0 if x[1] <= 111.5 else 0 if x[2] <= 72.0 else 1 if x[3] <= 31.0 else\n",
    "        0) if x[2] <= 82.5 else 1) if x[4] <= 36.5 else 0) if x[6] <=\n",
    "        0.5005000084638596 else (0 if x[1] <= 88.5 else (((0 if x[0] <= 1.0 else\n",
    "        1) if x[1] <= 98.5 else 1) if x[6] <= 0.9269999861717224 else 0) if x[1\n",
    "        ] <= 116.0 else 0 if x[4] <= 166.0 else 1) if x[2] <= 69.0 else ((0 if\n",
    "        x[2] <= 79.0 else 0 if x[1] <= 104.5 else 1) if x[3] <= 5.5 else 0) if\n",
    "        x[6] <= 1.098000019788742 else 1) if x[5] <= 45.39999961853027 else 0 if\n",
    "        x[7] <= 22.5 else 1) if x[7] <= 28.5 else (1 if x[5] <=\n",
    "        9.649999618530273 else 0) if x[5] <= 26.350000381469727 else (1 if x[1] <=\n",
    "        28.5 else ((0 if x[0] <= 11.5 else 1 if x[5] <= 31.25 else 0) if x[1] <=\n",
    "        94.5 else (1 if x[5] <= 36.19999885559082 else 0) if x[1] <= 97.5 else\n",
    "        0) if x[6] <= 0.7960000038146973 else 0 if x[0] <= 3.0 else (1 if x[6] <=\n",
    "        0.9614999890327454 else 0) if x[3] <= 20.0 else 1) if x[1] <= 99.5 else\n",
    "        ((1 if x[5] <= 27.649999618530273 else 0 if x[0] <= 5.5 else (((1 if x[\n",
    "        0] <= 7.0 else 0) if x[1] <= 103.5 else 0) if x[1] <= 118.5 else 1) if\n",
    "        x[0] <= 9.0 else 0) if x[6] <= 0.19999999552965164 else ((0 if x[5] <=\n",
    "        36.14999961853027 else 1) if x[1] <= 113.0 else 1) if x[0] <= 1.5 else\n",
    "        (1 if x[6] <= 0.3620000034570694 else 1 if x[5] <= 30.050000190734863 else\n",
    "        0) if x[2] <= 67.0 else (((0 if x[6] <= 0.2524999976158142 else 1) if x\n",
    "        [1] <= 120.0 else 1 if x[6] <= 0.23899999260902405 else 1 if x[7] <=\n",
    "        30.5 else 0) if x[2] <= 83.0 else 0) if x[5] <= 34.45000076293945 else\n",
    "        1 if x[1] <= 101.0 else 0 if x[5] <= 43.10000038146973 else 1) if x[6] <=\n",
    "        0.5609999895095825 else ((0 if x[7] <= 34.5 else 1 if x[5] <=\n",
    "        33.14999961853027 else 0) if x[4] <= 120.5 else (1 if x[3] <= 47.5 else\n",
    "        0) if x[4] <= 225.0 else 0) if x[0] <= 6.5 else 1) if x[1] <= 127.5 else\n",
    "        (((((1 if x[1] <= 129.5 else ((1 if x[6] <= 0.5444999933242798 else 0) if\n",
    "        x[2] <= 56.0 else 0) if x[2] <= 71.0 else 1) if x[2] <= 73.0 else 0) if\n",
    "        x[5] <= 28.149999618530273 else (1 if x[1] <= 135.0 else 0) if x[3] <=\n",
    "        21.0 else 1) if x[4] <= 132.5 else 0) if x[1] <= 145.5 else 0 if x[7] <=\n",
    "        25.5 else ((0 if x[1] <= 151.0 else 1) if x[5] <= 27.09999942779541 else\n",
    "        ((1 if x[0] <= 6.5 else 0) if x[6] <= 0.3974999934434891 else 0) if x[2\n",
    "        ] <= 82.0 else 0) if x[7] <= 61.0 else 0) if x[5] <= 29.949999809265137\n",
    "         else ((1 if x[2] <= 61.0 else (((((0 if x[6] <= 0.18299999833106995 else\n",
    "        1) if x[0] <= 0.5 else 1 if x[5] <= 32.45000076293945 else 0) if x[2] <=\n",
    "        73.0 else 0) if x[0] <= 4.5 else 1 if x[6] <= 0.6169999837875366 else 0\n",
    "        ) if x[6] <= 1.1414999961853027 else 1) if x[5] <= 41.79999923706055 else\n",
    "        1 if x[6] <= 0.37299999594688416 else 1 if x[1] <= 142.5 else 0) if x[7\n",
    "        ] <= 30.5 else (((1 if x[6] <= 0.13649999350309372 else 0 if x[5] <=\n",
    "        32.45000076293945 else 1 if x[5] <= 33.05000114440918 else (0 if x[6] <=\n",
    "        0.25599999725818634 else (0 if x[1] <= 130.5 else 1) if x[0] <= 8.5 else\n",
    "        0) if x[0] <= 13.5 else 1) if x[2] <= 92.0 else 1) if x[5] <=\n",
    "        45.54999923706055 else 1) if x[6] <= 0.4294999986886978 else (1 if x[5] <=\n",
    "        40.05000114440918 else 0 if x[5] <= 40.89999961853027 else 1) if x[4] <=\n",
    "        333.5 else 1 if x[2] <= 64.0 else 0) if x[1] <= 157.5 else ((((1 if x[7\n",
    "        ] <= 25.5 else 0 if x[4] <= 87.5 else 1 if x[5] <= 45.60000038146973 else\n",
    "        0) if x[7] <= 37.5 else 1 if x[7] <= 56.5 else 0 if x[6] <=\n",
    "        0.22100000083446503 else 1) if x[6] <= 0.28849999606609344 else 0) if x\n",
    "        [6] <= 0.3004999905824661 else 1 if x[7] <= 44.0 else (0 if x[7] <=\n",
    "        51.0 else 1 if x[6] <= 1.1565000414848328 else 0) if x[0] <= 6.5 else 1\n",
    "        ) if x[4] <= 629.5 else 1 if x[6] <= 0.4124999940395355 else 0)"
   ]
  },
  {
   "cell_type": "code",
   "execution_count": 94,
   "id": "455dbfce",
   "metadata": {},
   "outputs": [
    {
     "data": {
      "text/plain": [
       "Index(['Pregnancies', 'Glucose', 'BloodPressure', 'SkinThickness', 'Insulin',\n",
       "       'BMI', 'DiabetesPedigreeFunction', 'Age'],\n",
       "      dtype='object')"
      ]
     },
     "execution_count": 94,
     "metadata": {},
     "output_type": "execute_result"
    }
   ],
   "source": [
    "X.columns"
   ]
  },
  {
   "cell_type": "code",
   "execution_count": 95,
   "id": "e09541f9",
   "metadata": {},
   "outputs": [],
   "source": [
    "x = [12, 13, 20, 23, 4, 55, 12, 7]"
   ]
  },
  {
   "cell_type": "code",
   "execution_count": 96,
   "id": "9ef31d7e",
   "metadata": {},
   "outputs": [
    {
     "data": {
      "text/plain": [
       "0"
      ]
     },
     "execution_count": 96,
     "metadata": {},
     "output_type": "execute_result"
    }
   ],
   "source": [
    "predict_with_rules(x)\n",
    "\n",
    "#diyabet değildir çıktı"
   ]
  },
  {
   "cell_type": "code",
   "execution_count": 97,
   "id": "318f5324",
   "metadata": {},
   "outputs": [],
   "source": [
    "x = [6, 148, 70, 35, 0, 30, 0.62, 50]"
   ]
  },
  {
   "cell_type": "code",
   "execution_count": 98,
   "id": "7fe3626b",
   "metadata": {},
   "outputs": [
    {
     "data": {
      "text/plain": [
       "1"
      ]
     },
     "execution_count": 98,
     "metadata": {},
     "output_type": "execute_result"
    }
   ],
   "source": [
    "predict_with_rules(x)\n",
    "\n",
    "#diyabettir çıktı"
   ]
  },
  {
   "cell_type": "code",
   "execution_count": 99,
   "id": "7b28d7e5",
   "metadata": {},
   "outputs": [],
   "source": [
    "# 12. Saving and Loading Model"
   ]
  },
  {
   "cell_type": "code",
   "execution_count": 100,
   "id": "b121f0c6",
   "metadata": {},
   "outputs": [
    {
     "data": {
      "text/plain": [
       "['cart_final.pkl']"
      ]
     },
     "execution_count": 100,
     "metadata": {},
     "output_type": "execute_result"
    }
   ],
   "source": [
    "joblib.dump(cart_final, \"cart_final.pkl\")\n",
    "\n",
    "#bir pkl dosyası geldi"
   ]
  },
  {
   "cell_type": "code",
   "execution_count": 101,
   "id": "88fcb57a",
   "metadata": {},
   "outputs": [],
   "source": [
    "cart_model_from_disc = joblib.load(\"cart_final.pkl\")\n",
    "\n",
    "#pkl dosyasını yükledik yani kurduğumuz modeli yükledik"
   ]
  },
  {
   "cell_type": "code",
   "execution_count": 102,
   "id": "2c018338",
   "metadata": {},
   "outputs": [],
   "source": [
    "x = [12, 13, 20, 23, 4, 55, 12, 7]\n",
    "\n",
    "#yeni bir gözlem birimi"
   ]
  },
  {
   "cell_type": "code",
   "execution_count": 104,
   "id": "039ecf11",
   "metadata": {},
   "outputs": [
    {
     "data": {
      "text/plain": [
       "array([1], dtype=int64)"
      ]
     },
     "execution_count": 104,
     "metadata": {},
     "output_type": "execute_result"
    }
   ],
   "source": [
    "cart_model_from_disc.predict(pd.DataFrame(x).T)\n",
    "\n",
    "#x'i dataframe'e çevirmemiz gerekiyordu \n",
    "#tahmin sonucu 1 geldi yani diyabet"
   ]
  }
 ],
 "metadata": {
  "kernelspec": {
   "display_name": "Python 3 (ipykernel)",
   "language": "python",
   "name": "python3"
  },
  "language_info": {
   "codemirror_mode": {
    "name": "ipython",
    "version": 3
   },
   "file_extension": ".py",
   "mimetype": "text/x-python",
   "name": "python",
   "nbconvert_exporter": "python",
   "pygments_lexer": "ipython3",
   "version": "3.11.4"
  }
 },
 "nbformat": 4,
 "nbformat_minor": 5
}
