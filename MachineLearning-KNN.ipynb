{
 "cells": [
  {
   "cell_type": "code",
   "execution_count": 1,
   "id": "5647f051",
   "metadata": {},
   "outputs": [],
   "source": [
    "################################################\n",
    "# KNN\n",
    "################################################\n",
    "\n",
    "# 1. Exploratory Data Analysis\n",
    "# 2. Data Preprocessing & Feature Engineering\n",
    "# 3. Modeling & Prediction\n",
    "# 4. Model Evaluation\n",
    "# 5. Hyperparameter Optimization\n",
    "# 6. Final Model"
   ]
  },
  {
   "cell_type": "code",
   "execution_count": 2,
   "id": "582afcf7",
   "metadata": {},
   "outputs": [],
   "source": [
    "import pandas as pd\n",
    "from sklearn.metrics import classification_report, roc_auc_score\n",
    "from sklearn.model_selection import GridSearchCV, cross_validate\n",
    "from sklearn.neighbors import KNeighborsClassifier\n",
    "from sklearn.preprocessing import StandardScaler\n",
    "pd.set_option('display.max_columns', None)\n",
    "pd.set_option('display.width', 500)"
   ]
  },
  {
   "cell_type": "code",
   "execution_count": 3,
   "id": "8dd357a1",
   "metadata": {},
   "outputs": [],
   "source": [
    "# 1. Exploratory Data Analysis"
   ]
  },
  {
   "cell_type": "code",
   "execution_count": 4,
   "id": "9334e3b0",
   "metadata": {},
   "outputs": [],
   "source": [
    "df = pd.read_csv(\"OneDrive/diabetes.csv\")"
   ]
  },
  {
   "cell_type": "code",
   "execution_count": 5,
   "id": "bca2a7e3",
   "metadata": {},
   "outputs": [
    {
     "data": {
      "text/html": [
       "<div>\n",
       "<style scoped>\n",
       "    .dataframe tbody tr th:only-of-type {\n",
       "        vertical-align: middle;\n",
       "    }\n",
       "\n",
       "    .dataframe tbody tr th {\n",
       "        vertical-align: top;\n",
       "    }\n",
       "\n",
       "    .dataframe thead th {\n",
       "        text-align: right;\n",
       "    }\n",
       "</style>\n",
       "<table border=\"1\" class=\"dataframe\">\n",
       "  <thead>\n",
       "    <tr style=\"text-align: right;\">\n",
       "      <th></th>\n",
       "      <th>Pregnancies</th>\n",
       "      <th>Glucose</th>\n",
       "      <th>BloodPressure</th>\n",
       "      <th>SkinThickness</th>\n",
       "      <th>Insulin</th>\n",
       "      <th>BMI</th>\n",
       "      <th>DiabetesPedigreeFunction</th>\n",
       "      <th>Age</th>\n",
       "      <th>Outcome</th>\n",
       "    </tr>\n",
       "  </thead>\n",
       "  <tbody>\n",
       "    <tr>\n",
       "      <th>0</th>\n",
       "      <td>6</td>\n",
       "      <td>148</td>\n",
       "      <td>72</td>\n",
       "      <td>35</td>\n",
       "      <td>0</td>\n",
       "      <td>33.6</td>\n",
       "      <td>0.627</td>\n",
       "      <td>50</td>\n",
       "      <td>1</td>\n",
       "    </tr>\n",
       "    <tr>\n",
       "      <th>1</th>\n",
       "      <td>1</td>\n",
       "      <td>85</td>\n",
       "      <td>66</td>\n",
       "      <td>29</td>\n",
       "      <td>0</td>\n",
       "      <td>26.6</td>\n",
       "      <td>0.351</td>\n",
       "      <td>31</td>\n",
       "      <td>0</td>\n",
       "    </tr>\n",
       "    <tr>\n",
       "      <th>2</th>\n",
       "      <td>8</td>\n",
       "      <td>183</td>\n",
       "      <td>64</td>\n",
       "      <td>0</td>\n",
       "      <td>0</td>\n",
       "      <td>23.3</td>\n",
       "      <td>0.672</td>\n",
       "      <td>32</td>\n",
       "      <td>1</td>\n",
       "    </tr>\n",
       "    <tr>\n",
       "      <th>3</th>\n",
       "      <td>1</td>\n",
       "      <td>89</td>\n",
       "      <td>66</td>\n",
       "      <td>23</td>\n",
       "      <td>94</td>\n",
       "      <td>28.1</td>\n",
       "      <td>0.167</td>\n",
       "      <td>21</td>\n",
       "      <td>0</td>\n",
       "    </tr>\n",
       "    <tr>\n",
       "      <th>4</th>\n",
       "      <td>0</td>\n",
       "      <td>137</td>\n",
       "      <td>40</td>\n",
       "      <td>35</td>\n",
       "      <td>168</td>\n",
       "      <td>43.1</td>\n",
       "      <td>2.288</td>\n",
       "      <td>33</td>\n",
       "      <td>1</td>\n",
       "    </tr>\n",
       "  </tbody>\n",
       "</table>\n",
       "</div>"
      ],
      "text/plain": [
       "   Pregnancies  Glucose  BloodPressure  SkinThickness  Insulin   BMI  DiabetesPedigreeFunction  Age  Outcome\n",
       "0            6      148             72             35        0  33.6                     0.627   50        1\n",
       "1            1       85             66             29        0  26.6                     0.351   31        0\n",
       "2            8      183             64              0        0  23.3                     0.672   32        1\n",
       "3            1       89             66             23       94  28.1                     0.167   21        0\n",
       "4            0      137             40             35      168  43.1                     2.288   33        1"
      ]
     },
     "execution_count": 5,
     "metadata": {},
     "output_type": "execute_result"
    }
   ],
   "source": [
    "df.head()"
   ]
  },
  {
   "cell_type": "code",
   "execution_count": 6,
   "id": "5ffc4d95",
   "metadata": {},
   "outputs": [
    {
     "data": {
      "text/plain": [
       "(768, 9)"
      ]
     },
     "execution_count": 6,
     "metadata": {},
     "output_type": "execute_result"
    }
   ],
   "source": [
    "df.shape"
   ]
  },
  {
   "cell_type": "code",
   "execution_count": 7,
   "id": "5397c58e",
   "metadata": {},
   "outputs": [
    {
     "data": {
      "text/html": [
       "<div>\n",
       "<style scoped>\n",
       "    .dataframe tbody tr th:only-of-type {\n",
       "        vertical-align: middle;\n",
       "    }\n",
       "\n",
       "    .dataframe tbody tr th {\n",
       "        vertical-align: top;\n",
       "    }\n",
       "\n",
       "    .dataframe thead th {\n",
       "        text-align: right;\n",
       "    }\n",
       "</style>\n",
       "<table border=\"1\" class=\"dataframe\">\n",
       "  <thead>\n",
       "    <tr style=\"text-align: right;\">\n",
       "      <th></th>\n",
       "      <th>count</th>\n",
       "      <th>mean</th>\n",
       "      <th>std</th>\n",
       "      <th>min</th>\n",
       "      <th>25%</th>\n",
       "      <th>50%</th>\n",
       "      <th>75%</th>\n",
       "      <th>max</th>\n",
       "    </tr>\n",
       "  </thead>\n",
       "  <tbody>\n",
       "    <tr>\n",
       "      <th>Pregnancies</th>\n",
       "      <td>768.0</td>\n",
       "      <td>3.845052</td>\n",
       "      <td>3.369578</td>\n",
       "      <td>0.000</td>\n",
       "      <td>1.00000</td>\n",
       "      <td>3.0000</td>\n",
       "      <td>6.00000</td>\n",
       "      <td>17.00</td>\n",
       "    </tr>\n",
       "    <tr>\n",
       "      <th>Glucose</th>\n",
       "      <td>768.0</td>\n",
       "      <td>120.894531</td>\n",
       "      <td>31.972618</td>\n",
       "      <td>0.000</td>\n",
       "      <td>99.00000</td>\n",
       "      <td>117.0000</td>\n",
       "      <td>140.25000</td>\n",
       "      <td>199.00</td>\n",
       "    </tr>\n",
       "    <tr>\n",
       "      <th>BloodPressure</th>\n",
       "      <td>768.0</td>\n",
       "      <td>69.105469</td>\n",
       "      <td>19.355807</td>\n",
       "      <td>0.000</td>\n",
       "      <td>62.00000</td>\n",
       "      <td>72.0000</td>\n",
       "      <td>80.00000</td>\n",
       "      <td>122.00</td>\n",
       "    </tr>\n",
       "    <tr>\n",
       "      <th>SkinThickness</th>\n",
       "      <td>768.0</td>\n",
       "      <td>20.536458</td>\n",
       "      <td>15.952218</td>\n",
       "      <td>0.000</td>\n",
       "      <td>0.00000</td>\n",
       "      <td>23.0000</td>\n",
       "      <td>32.00000</td>\n",
       "      <td>99.00</td>\n",
       "    </tr>\n",
       "    <tr>\n",
       "      <th>Insulin</th>\n",
       "      <td>768.0</td>\n",
       "      <td>79.799479</td>\n",
       "      <td>115.244002</td>\n",
       "      <td>0.000</td>\n",
       "      <td>0.00000</td>\n",
       "      <td>30.5000</td>\n",
       "      <td>127.25000</td>\n",
       "      <td>846.00</td>\n",
       "    </tr>\n",
       "    <tr>\n",
       "      <th>BMI</th>\n",
       "      <td>768.0</td>\n",
       "      <td>31.992578</td>\n",
       "      <td>7.884160</td>\n",
       "      <td>0.000</td>\n",
       "      <td>27.30000</td>\n",
       "      <td>32.0000</td>\n",
       "      <td>36.60000</td>\n",
       "      <td>67.10</td>\n",
       "    </tr>\n",
       "    <tr>\n",
       "      <th>DiabetesPedigreeFunction</th>\n",
       "      <td>768.0</td>\n",
       "      <td>0.471876</td>\n",
       "      <td>0.331329</td>\n",
       "      <td>0.078</td>\n",
       "      <td>0.24375</td>\n",
       "      <td>0.3725</td>\n",
       "      <td>0.62625</td>\n",
       "      <td>2.42</td>\n",
       "    </tr>\n",
       "    <tr>\n",
       "      <th>Age</th>\n",
       "      <td>768.0</td>\n",
       "      <td>33.240885</td>\n",
       "      <td>11.760232</td>\n",
       "      <td>21.000</td>\n",
       "      <td>24.00000</td>\n",
       "      <td>29.0000</td>\n",
       "      <td>41.00000</td>\n",
       "      <td>81.00</td>\n",
       "    </tr>\n",
       "    <tr>\n",
       "      <th>Outcome</th>\n",
       "      <td>768.0</td>\n",
       "      <td>0.348958</td>\n",
       "      <td>0.476951</td>\n",
       "      <td>0.000</td>\n",
       "      <td>0.00000</td>\n",
       "      <td>0.0000</td>\n",
       "      <td>1.00000</td>\n",
       "      <td>1.00</td>\n",
       "    </tr>\n",
       "  </tbody>\n",
       "</table>\n",
       "</div>"
      ],
      "text/plain": [
       "                          count        mean         std     min       25%       50%        75%     max\n",
       "Pregnancies               768.0    3.845052    3.369578   0.000   1.00000    3.0000    6.00000   17.00\n",
       "Glucose                   768.0  120.894531   31.972618   0.000  99.00000  117.0000  140.25000  199.00\n",
       "BloodPressure             768.0   69.105469   19.355807   0.000  62.00000   72.0000   80.00000  122.00\n",
       "SkinThickness             768.0   20.536458   15.952218   0.000   0.00000   23.0000   32.00000   99.00\n",
       "Insulin                   768.0   79.799479  115.244002   0.000   0.00000   30.5000  127.25000  846.00\n",
       "BMI                       768.0   31.992578    7.884160   0.000  27.30000   32.0000   36.60000   67.10\n",
       "DiabetesPedigreeFunction  768.0    0.471876    0.331329   0.078   0.24375    0.3725    0.62625    2.42\n",
       "Age                       768.0   33.240885   11.760232  21.000  24.00000   29.0000   41.00000   81.00\n",
       "Outcome                   768.0    0.348958    0.476951   0.000   0.00000    0.0000    1.00000    1.00"
      ]
     },
     "execution_count": 7,
     "metadata": {},
     "output_type": "execute_result"
    }
   ],
   "source": [
    "df.describe().T"
   ]
  },
  {
   "cell_type": "code",
   "execution_count": 8,
   "id": "13ef0513",
   "metadata": {},
   "outputs": [
    {
     "data": {
      "text/plain": [
       "0    500\n",
       "1    268\n",
       "Name: Outcome, dtype: int64"
      ]
     },
     "execution_count": 8,
     "metadata": {},
     "output_type": "execute_result"
    }
   ],
   "source": [
    "df[\"Outcome\"].value_counts()"
   ]
  },
  {
   "cell_type": "code",
   "execution_count": 9,
   "id": "9f090a18",
   "metadata": {},
   "outputs": [],
   "source": [
    "# 2. Data Preprocessing & Feature Engineering"
   ]
  },
  {
   "cell_type": "code",
   "execution_count": 10,
   "id": "f72419e6",
   "metadata": {},
   "outputs": [],
   "source": [
    "y = df[\"Outcome\"]\n",
    "X = df.drop([\"Outcome\"], axis=1)"
   ]
  },
  {
   "cell_type": "code",
   "execution_count": 12,
   "id": "ae1c2e25",
   "metadata": {},
   "outputs": [
    {
     "data": {
      "text/plain": [
       "array([[ 0.63994726,  0.84832379,  0.14964075, ...,  0.20401277,\n",
       "         0.46849198,  1.4259954 ],\n",
       "       [-0.84488505, -1.12339636, -0.16054575, ..., -0.68442195,\n",
       "        -0.36506078, -0.19067191],\n",
       "       [ 1.23388019,  1.94372388, -0.26394125, ..., -1.10325546,\n",
       "         0.60439732, -0.10558415],\n",
       "       ...,\n",
       "       [ 0.3429808 ,  0.00330087,  0.14964075, ..., -0.73518964,\n",
       "        -0.68519336, -0.27575966],\n",
       "       [-0.84488505,  0.1597866 , -0.47073225, ..., -0.24020459,\n",
       "        -0.37110101,  1.17073215],\n",
       "       [-0.84488505, -0.8730192 ,  0.04624525, ..., -0.20212881,\n",
       "        -0.47378505, -0.87137393]])"
      ]
     },
     "execution_count": 12,
     "metadata": {},
     "output_type": "execute_result"
    }
   ],
   "source": [
    "#kullanacağımız yöntem (KNN yöntemi) uzaklık temelli, uzaklık temelli yöntemlerde değişkenlerin standart olması,\n",
    "#elde edilecek sonuçların ya daha hızlı ya da daha doğru olmasını sağlayacaktır, diğer bir ifadeyle daha başarılı\n",
    "#olunmasını sağlayacaktır. bu sebeple elimizdeki bağımsız değişkenleri standartlaştırma işlemlerine sokacağız\n",
    "\n",
    "X_scaled = StandardScaler().fit_transform(X)\n",
    "\n",
    "X_scaled"
   ]
  },
  {
   "cell_type": "code",
   "execution_count": 13,
   "id": "d361ebf5",
   "metadata": {},
   "outputs": [],
   "source": [
    "#çıktıda sütun isimleri yok. ekleyelim\n",
    "\n",
    "X = pd.DataFrame(X_scaled, columns=X.columns)"
   ]
  },
  {
   "cell_type": "code",
   "execution_count": 14,
   "id": "cb50a28a",
   "metadata": {},
   "outputs": [
    {
     "data": {
      "text/html": [
       "<div>\n",
       "<style scoped>\n",
       "    .dataframe tbody tr th:only-of-type {\n",
       "        vertical-align: middle;\n",
       "    }\n",
       "\n",
       "    .dataframe tbody tr th {\n",
       "        vertical-align: top;\n",
       "    }\n",
       "\n",
       "    .dataframe thead th {\n",
       "        text-align: right;\n",
       "    }\n",
       "</style>\n",
       "<table border=\"1\" class=\"dataframe\">\n",
       "  <thead>\n",
       "    <tr style=\"text-align: right;\">\n",
       "      <th></th>\n",
       "      <th>Pregnancies</th>\n",
       "      <th>Glucose</th>\n",
       "      <th>BloodPressure</th>\n",
       "      <th>SkinThickness</th>\n",
       "      <th>Insulin</th>\n",
       "      <th>BMI</th>\n",
       "      <th>DiabetesPedigreeFunction</th>\n",
       "      <th>Age</th>\n",
       "    </tr>\n",
       "  </thead>\n",
       "  <tbody>\n",
       "    <tr>\n",
       "      <th>0</th>\n",
       "      <td>0.639947</td>\n",
       "      <td>0.848324</td>\n",
       "      <td>0.149641</td>\n",
       "      <td>0.907270</td>\n",
       "      <td>-0.692891</td>\n",
       "      <td>0.204013</td>\n",
       "      <td>0.468492</td>\n",
       "      <td>1.425995</td>\n",
       "    </tr>\n",
       "    <tr>\n",
       "      <th>1</th>\n",
       "      <td>-0.844885</td>\n",
       "      <td>-1.123396</td>\n",
       "      <td>-0.160546</td>\n",
       "      <td>0.530902</td>\n",
       "      <td>-0.692891</td>\n",
       "      <td>-0.684422</td>\n",
       "      <td>-0.365061</td>\n",
       "      <td>-0.190672</td>\n",
       "    </tr>\n",
       "    <tr>\n",
       "      <th>2</th>\n",
       "      <td>1.233880</td>\n",
       "      <td>1.943724</td>\n",
       "      <td>-0.263941</td>\n",
       "      <td>-1.288212</td>\n",
       "      <td>-0.692891</td>\n",
       "      <td>-1.103255</td>\n",
       "      <td>0.604397</td>\n",
       "      <td>-0.105584</td>\n",
       "    </tr>\n",
       "    <tr>\n",
       "      <th>3</th>\n",
       "      <td>-0.844885</td>\n",
       "      <td>-0.998208</td>\n",
       "      <td>-0.160546</td>\n",
       "      <td>0.154533</td>\n",
       "      <td>0.123302</td>\n",
       "      <td>-0.494043</td>\n",
       "      <td>-0.920763</td>\n",
       "      <td>-1.041549</td>\n",
       "    </tr>\n",
       "    <tr>\n",
       "      <th>4</th>\n",
       "      <td>-1.141852</td>\n",
       "      <td>0.504055</td>\n",
       "      <td>-1.504687</td>\n",
       "      <td>0.907270</td>\n",
       "      <td>0.765836</td>\n",
       "      <td>1.409746</td>\n",
       "      <td>5.484909</td>\n",
       "      <td>-0.020496</td>\n",
       "    </tr>\n",
       "    <tr>\n",
       "      <th>...</th>\n",
       "      <td>...</td>\n",
       "      <td>...</td>\n",
       "      <td>...</td>\n",
       "      <td>...</td>\n",
       "      <td>...</td>\n",
       "      <td>...</td>\n",
       "      <td>...</td>\n",
       "      <td>...</td>\n",
       "    </tr>\n",
       "    <tr>\n",
       "      <th>763</th>\n",
       "      <td>1.827813</td>\n",
       "      <td>-0.622642</td>\n",
       "      <td>0.356432</td>\n",
       "      <td>1.722735</td>\n",
       "      <td>0.870031</td>\n",
       "      <td>0.115169</td>\n",
       "      <td>-0.908682</td>\n",
       "      <td>2.532136</td>\n",
       "    </tr>\n",
       "    <tr>\n",
       "      <th>764</th>\n",
       "      <td>-0.547919</td>\n",
       "      <td>0.034598</td>\n",
       "      <td>0.046245</td>\n",
       "      <td>0.405445</td>\n",
       "      <td>-0.692891</td>\n",
       "      <td>0.610154</td>\n",
       "      <td>-0.398282</td>\n",
       "      <td>-0.531023</td>\n",
       "    </tr>\n",
       "    <tr>\n",
       "      <th>765</th>\n",
       "      <td>0.342981</td>\n",
       "      <td>0.003301</td>\n",
       "      <td>0.149641</td>\n",
       "      <td>0.154533</td>\n",
       "      <td>0.279594</td>\n",
       "      <td>-0.735190</td>\n",
       "      <td>-0.685193</td>\n",
       "      <td>-0.275760</td>\n",
       "    </tr>\n",
       "    <tr>\n",
       "      <th>766</th>\n",
       "      <td>-0.844885</td>\n",
       "      <td>0.159787</td>\n",
       "      <td>-0.470732</td>\n",
       "      <td>-1.288212</td>\n",
       "      <td>-0.692891</td>\n",
       "      <td>-0.240205</td>\n",
       "      <td>-0.371101</td>\n",
       "      <td>1.170732</td>\n",
       "    </tr>\n",
       "    <tr>\n",
       "      <th>767</th>\n",
       "      <td>-0.844885</td>\n",
       "      <td>-0.873019</td>\n",
       "      <td>0.046245</td>\n",
       "      <td>0.656358</td>\n",
       "      <td>-0.692891</td>\n",
       "      <td>-0.202129</td>\n",
       "      <td>-0.473785</td>\n",
       "      <td>-0.871374</td>\n",
       "    </tr>\n",
       "  </tbody>\n",
       "</table>\n",
       "<p>768 rows × 8 columns</p>\n",
       "</div>"
      ],
      "text/plain": [
       "     Pregnancies   Glucose  BloodPressure  SkinThickness   Insulin       BMI  DiabetesPedigreeFunction       Age\n",
       "0       0.639947  0.848324       0.149641       0.907270 -0.692891  0.204013                  0.468492  1.425995\n",
       "1      -0.844885 -1.123396      -0.160546       0.530902 -0.692891 -0.684422                 -0.365061 -0.190672\n",
       "2       1.233880  1.943724      -0.263941      -1.288212 -0.692891 -1.103255                  0.604397 -0.105584\n",
       "3      -0.844885 -0.998208      -0.160546       0.154533  0.123302 -0.494043                 -0.920763 -1.041549\n",
       "4      -1.141852  0.504055      -1.504687       0.907270  0.765836  1.409746                  5.484909 -0.020496\n",
       "..           ...       ...            ...            ...       ...       ...                       ...       ...\n",
       "763     1.827813 -0.622642       0.356432       1.722735  0.870031  0.115169                 -0.908682  2.532136\n",
       "764    -0.547919  0.034598       0.046245       0.405445 -0.692891  0.610154                 -0.398282 -0.531023\n",
       "765     0.342981  0.003301       0.149641       0.154533  0.279594 -0.735190                 -0.685193 -0.275760\n",
       "766    -0.844885  0.159787      -0.470732      -1.288212 -0.692891 -0.240205                 -0.371101  1.170732\n",
       "767    -0.844885 -0.873019       0.046245       0.656358 -0.692891 -0.202129                 -0.473785 -0.871374\n",
       "\n",
       "[768 rows x 8 columns]"
      ]
     },
     "execution_count": 14,
     "metadata": {},
     "output_type": "execute_result"
    }
   ],
   "source": [
    "X"
   ]
  },
  {
   "cell_type": "code",
   "execution_count": 15,
   "id": "e00974a3",
   "metadata": {},
   "outputs": [],
   "source": [
    "# 3. Modeling & Prediction"
   ]
  },
  {
   "cell_type": "code",
   "execution_count": 16,
   "id": "f498f490",
   "metadata": {},
   "outputs": [],
   "source": [
    "knn_model = KNeighborsClassifier().fit(X, y)\n",
    "\n",
    "#KNeighborsClassifier metodunu başta import etmiştik"
   ]
  },
  {
   "cell_type": "code",
   "execution_count": 18,
   "id": "de765984",
   "metadata": {},
   "outputs": [],
   "source": [
    "random_user = X.sample(1, random_state=45)\n",
    "\n",
    "#rastgele kullanıcı seçtik random_state kullanımı aynı sonucu almak içindir"
   ]
  },
  {
   "cell_type": "code",
   "execution_count": 19,
   "id": "21880403",
   "metadata": {},
   "outputs": [
    {
     "data": {
      "text/plain": [
       "array([1], dtype=int64)"
      ]
     },
     "execution_count": 19,
     "metadata": {},
     "output_type": "execute_result"
    }
   ],
   "source": [
    "knn_model.predict(random_user)"
   ]
  },
  {
   "cell_type": "code",
   "execution_count": 20,
   "id": "59e1a846",
   "metadata": {},
   "outputs": [],
   "source": [
    "# 4. Model Evaluation"
   ]
  },
  {
   "cell_type": "code",
   "execution_count": 21,
   "id": "e6c7b115",
   "metadata": {},
   "outputs": [],
   "source": [
    "#az önce tek bir tahmin yaptık bütün tahminleri kaydedelim\n",
    "\n",
    "# Confusion matrix için y_pred:\n",
    "y_pred = knn_model.predict(X)"
   ]
  },
  {
   "cell_type": "code",
   "execution_count": 25,
   "id": "6fa1a91e",
   "metadata": {},
   "outputs": [],
   "source": [
    "#roc eğrisinin altında kalan alanı ifade eden AUC'yi hesplayalım\n",
    "\n",
    "# AUC için y_prob:\n",
    "y_prob = knn_model.predict_proba(X)[:, 1]\n",
    "\n",
    "#1 sınıfına ait olma olasılıklarını getir demiş olduk"
   ]
  },
  {
   "cell_type": "code",
   "execution_count": 26,
   "id": "b0e87de9",
   "metadata": {},
   "outputs": [
    {
     "name": "stdout",
     "output_type": "stream",
     "text": [
      "              precision    recall  f1-score   support\n",
      "\n",
      "           0       0.85      0.90      0.87       500\n",
      "           1       0.79      0.70      0.74       268\n",
      "\n",
      "    accuracy                           0.83       768\n",
      "   macro avg       0.82      0.80      0.81       768\n",
      "weighted avg       0.83      0.83      0.83       768\n",
      "\n"
     ]
    }
   ],
   "source": [
    "print(classification_report(y, y_pred))\n",
    "\n",
    "#1 sınıfına ve 0 sınıfına göre hesaplama işlemleri yapıyordu\n",
    "#ana odağımız 1 sınıfı\n",
    "\n",
    "#accuracy: başarılı sınıflandırma oranı yani 1e 1 dediğimiz 0a 0 dediğimiz durumlar / tüm durumlar = 0.83\n",
    "\n",
    "#precision: 1 olarak tahmin ettiklerimizin başarısı : 0.79\n",
    "\n",
    "#recall: gerçekte 1 olanları 1 olarak tahmin etme başarısı : 0.70\n",
    "\n",
    "#f1-score : precision ve recall'ın harmonik ortalaması\n",
    "\n",
    "#macro avg : aritmetik ortalama\n",
    "#weighted avg: ağırlıklı ortalama"
   ]
  },
  {
   "cell_type": "code",
   "execution_count": 27,
   "id": "74e2b9ff",
   "metadata": {},
   "outputs": [
    {
     "data": {
      "text/plain": [
       "0.9017686567164179"
      ]
     },
     "execution_count": 27,
     "metadata": {},
     "output_type": "execute_result"
    }
   ],
   "source": [
    "# AUC : 0.90\n",
    "roc_auc_score(y, y_prob)\n",
    "\n",
    "#y: gerçek değerler\n",
    "#y_prob: y'lerde yer alan 1 sınıfına ait olma olasılıklarını ifade eder"
   ]
  },
  {
   "cell_type": "code",
   "execution_count": 28,
   "id": "ebf57683",
   "metadata": {},
   "outputs": [],
   "source": [
    "#modeli kurduğumuz veride test etmiş olduk\n",
    "#yani bütün veriyle bir model kurduk\n",
    "#kurmuş olduğumuz modelin başarısını yine modeli kurarken kullandığımız veriyle test ettik\n",
    "#aslında yapılması gereken şey : modelin görmediği verideki performansını değerlendirmek\n",
    "#bunun için iki yol öğrendik \n",
    "#1. Holdout yöntemi , sınama seti yaklaşımı (test, train)\n",
    "#2. Cross validation yöntemi: holdout yönteminin ortaya çıkarabileceği bazı senaryolardaki dezavantajı gidermek için önerilir\n",
    "\n",
    "#biz cross validation yöntemi kullanacağız\n",
    "#örneğin 5 katlı çapraz doğrulama kullanarak hatamızı değerlendireceğiz"
   ]
  },
  {
   "cell_type": "code",
   "execution_count": 29,
   "id": "788849c3",
   "metadata": {},
   "outputs": [],
   "source": [
    "# acc 0.83\n",
    "# f1 0.74"
   ]
  },
  {
   "cell_type": "code",
   "execution_count": 30,
   "id": "961d15f7",
   "metadata": {},
   "outputs": [],
   "source": [
    "cv_results = cross_validate(knn_model, X, y, cv=5, scoring=[\"accuracy\", \"f1\", \"roc_auc\"])\n",
    "\n",
    "#cross_validate metodunu yukarıda import etmiştik \n",
    "#cross_validate(model, bağımsız değişken, bağımlı değişken, kaç katlı cv istiyoruz, metrikler)"
   ]
  },
  {
   "cell_type": "code",
   "execution_count": 31,
   "id": "632f7931",
   "metadata": {},
   "outputs": [
    {
     "data": {
      "text/plain": [
       "{'fit_time': array([0.00799918, 0.00799966, 0.0060029 , 0.00499606, 0.00512886]),\n",
       " 'score_time': array([0.03500748, 0.05602121, 0.03062725, 0.02700949, 0.03048992]),\n",
       " 'test_accuracy': array([0.72077922, 0.73376623, 0.71428571, 0.77124183, 0.7254902 ]),\n",
       " 'test_f1': array([0.58252427, 0.60952381, 0.54166667, 0.63917526, 0.58      ]),\n",
       " 'test_roc_auc': array([0.77555556, 0.78759259, 0.73194444, 0.83226415, 0.77528302])}"
      ]
     },
     "execution_count": 31,
     "metadata": {},
     "output_type": "execute_result"
    }
   ],
   "source": [
    "cv_results"
   ]
  },
  {
   "cell_type": "code",
   "execution_count": 32,
   "id": "01dd72b8",
   "metadata": {},
   "outputs": [
    {
     "data": {
      "text/plain": [
       "0.733112638994992"
      ]
     },
     "execution_count": 32,
     "metadata": {},
     "output_type": "execute_result"
    }
   ],
   "source": [
    "cv_results['test_accuracy'].mean()"
   ]
  },
  {
   "cell_type": "code",
   "execution_count": 33,
   "id": "46e85df9",
   "metadata": {},
   "outputs": [
    {
     "data": {
      "text/plain": [
       "0.5905780011534191"
      ]
     },
     "execution_count": 33,
     "metadata": {},
     "output_type": "execute_result"
    }
   ],
   "source": [
    "cv_results['test_f1'].mean()"
   ]
  },
  {
   "cell_type": "code",
   "execution_count": 34,
   "id": "39c9e736",
   "metadata": {},
   "outputs": [
    {
     "data": {
      "text/plain": [
       "0.7805279524807827"
      ]
     },
     "execution_count": 34,
     "metadata": {},
     "output_type": "execute_result"
    }
   ],
   "source": [
    "cv_results['test_roc_auc'].mean()"
   ]
  },
  {
   "cell_type": "code",
   "execution_count": 35,
   "id": "b4d79d5a",
   "metadata": {},
   "outputs": [],
   "source": [
    "#acc %83ten %73e düşmüş\n",
    "#f1 score %74ten % 59a düşmüş\n",
    "#auc %90dan %78e düşmüş\n",
    "\n",
    "#cross validation sonuçları daha güvenilir"
   ]
  },
  {
   "cell_type": "code",
   "execution_count": 36,
   "id": "a59fdbda",
   "metadata": {},
   "outputs": [],
   "source": [
    "#bu başarı skorları nasıl artırılabilir?\n",
    "\n",
    "# 1. Örnek boyutu arttıralabilir. (yani gözlem sayısı)\n",
    "# 2. Veri ön işleme işlemleri detaylandırılabilir\n",
    "# 3. Özellik mühendisliği: yeni değişkenler türetilebilir\n",
    "# 4. İlgili algoritma için optimizasyonlar yapılabilir."
   ]
  },
  {
   "cell_type": "code",
   "execution_count": 38,
   "id": "12ae142d",
   "metadata": {},
   "outputs": [
    {
     "data": {
      "text/plain": [
       "{'algorithm': 'auto',\n",
       " 'leaf_size': 30,\n",
       " 'metric': 'minkowski',\n",
       " 'metric_params': None,\n",
       " 'n_jobs': None,\n",
       " 'n_neighbors': 5,\n",
       " 'p': 2,\n",
       " 'weights': 'uniform'}"
      ]
     },
     "execution_count": 38,
     "metadata": {},
     "output_type": "execute_result"
    }
   ],
   "source": [
    "knn_model.get_params()\n",
    "\n",
    "#komşuluk sayısı hiperparametresi: 5 miş"
   ]
  },
  {
   "cell_type": "code",
   "execution_count": 39,
   "id": "d5af158b",
   "metadata": {},
   "outputs": [],
   "source": [
    "#parametre: veri içerisinden öğrenilir\n",
    "\n",
    "#hiper parametre: kullanıcı tarafından tanımlanması gereken dışsal ve veri seti içerisinden öğrenilemeyen parametrelerdir"
   ]
  },
  {
   "cell_type": "code",
   "execution_count": 40,
   "id": "58b3facc",
   "metadata": {},
   "outputs": [],
   "source": [
    "# 5. Hyperparameter Optimization"
   ]
  },
  {
   "cell_type": "code",
   "execution_count": 41,
   "id": "999d6122",
   "metadata": {},
   "outputs": [],
   "source": [
    "knn_model = KNeighborsClassifier()\n",
    "\n",
    "#knn model , k en yakın komşu yöntemi"
   ]
  },
  {
   "cell_type": "code",
   "execution_count": 43,
   "id": "f14d2af1",
   "metadata": {},
   "outputs": [
    {
     "data": {
      "text/plain": [
       "{'algorithm': 'auto',\n",
       " 'leaf_size': 30,\n",
       " 'metric': 'minkowski',\n",
       " 'metric_params': None,\n",
       " 'n_jobs': None,\n",
       " 'n_neighbors': 5,\n",
       " 'p': 2,\n",
       " 'weights': 'uniform'}"
      ]
     },
     "execution_count": 43,
     "metadata": {},
     "output_type": "execute_result"
    }
   ],
   "source": [
    "knn_model.get_params()\n",
    "\n",
    "#bu yöntemin ön tanımlı bir parametresi\n",
    "\n",
    "#burada komşuluk sayısı 5 "
   ]
  },
  {
   "cell_type": "code",
   "execution_count": 45,
   "id": "625dc06a",
   "metadata": {},
   "outputs": [],
   "source": [
    "#amaç : bu komşuluk sayısını değiştirerek olması gereken en optimum komşuluk sayısının ne olacağını bulmak\n",
    "\n",
    "#bunun için şöyle bir parametre listesi oluşturalım\n",
    "\n",
    "knn_params = {\"n_neighbors\": range(2, 50)}   \n",
    "\n",
    "#\"n_neighbors\" yukarıdaki isimlendirmenin aynısı olması gerekiyor\n",
    "#range(2, 50) : 2'den 50'ye kadar sayılar oluşturduk\n",
    "#bu sayıları tek tek deniyor olacağız"
   ]
  },
  {
   "cell_type": "code",
   "execution_count": 46,
   "id": "14e47dad",
   "metadata": {},
   "outputs": [],
   "source": [
    "#GridSearchCV adında bir yöntem var\n",
    "\n",
    "#3 4 5 30 48 36 ... komşuluk için knn modeli kurup hatamıza bakacağız"
   ]
  },
  {
   "cell_type": "code",
   "execution_count": 48,
   "id": "e5f0b2b8",
   "metadata": {},
   "outputs": [
    {
     "name": "stdout",
     "output_type": "stream",
     "text": [
      "Fitting 5 folds for each of 48 candidates, totalling 240 fits\n"
     ]
    }
   ],
   "source": [
    "#n_jobs=-1 dendiğinde işlemcileri tam performans ile kullanır\n",
    "\n",
    "#verbose=1 dendiğinde rapor bekliyorum anlamına geliyor\n",
    "\n",
    "\n",
    "knn_gs_best = GridSearchCV(knn_model,\n",
    "                           knn_params,\n",
    "                           cv=5,\n",
    "                           n_jobs=-1,\n",
    "                           verbose=1).fit(X, y)\n",
    "\n",
    "\n",
    "#çıktı: denenecek 48 tane hiperparametre aday var diyor, her biri için 5 katlı cross validation yapılacak"
   ]
  },
  {
   "cell_type": "code",
   "execution_count": 49,
   "id": "64e4d9aa",
   "metadata": {},
   "outputs": [
    {
     "data": {
      "text/plain": [
       "{'n_neighbors': 17}"
      ]
     },
     "execution_count": 49,
     "metadata": {},
     "output_type": "execute_result"
    }
   ],
   "source": [
    "knn_gs_best.best_params_\n",
    "\n",
    "#komşuluk 17 geldi, önceden 5ti, bu 17 ile final modeli kuralım"
   ]
  },
  {
   "cell_type": "code",
   "execution_count": 50,
   "id": "e65bb9d5",
   "metadata": {},
   "outputs": [],
   "source": [
    "# 6. Final Model\n",
    "\n",
    "#elimizdeki knn algoritmasının en iyi hangi hiperparametre değeri ile çalışabileceğini tespit ettik , bunu bu modele\n",
    "#göstermeliyiz. daha öncesinde onun ön tanımlı değerini (5) kullandık. şimdi en iyi değeri kullanalım (17)"
   ]
  },
  {
   "cell_type": "code",
   "execution_count": 51,
   "id": "d8a19229",
   "metadata": {},
   "outputs": [],
   "source": [
    "knn_final = knn_model.set_params(**knn_gs_best.best_params_).fit(X, y)\n",
    "\n",
    "# ** sözlüğü otomatik olarak atadı"
   ]
  },
  {
   "cell_type": "code",
   "execution_count": 52,
   "id": "459d42bc",
   "metadata": {},
   "outputs": [],
   "source": [
    "cv_results = cross_validate(knn_final,\n",
    "                            X,\n",
    "                            y,\n",
    "                            cv=5,\n",
    "                            scoring=[\"accuracy\", \"f1\", \"roc_auc\"])"
   ]
  },
  {
   "cell_type": "code",
   "execution_count": 54,
   "id": "5eab05b6",
   "metadata": {},
   "outputs": [
    {
     "data": {
      "text/plain": [
       "0.7669892199303965"
      ]
     },
     "execution_count": 54,
     "metadata": {},
     "output_type": "execute_result"
    }
   ],
   "source": [
    "cv_results['test_accuracy'].mean()"
   ]
  },
  {
   "cell_type": "code",
   "execution_count": 55,
   "id": "9b8d20d2",
   "metadata": {},
   "outputs": [
    {
     "data": {
      "text/plain": [
       "0.6170909049720137"
      ]
     },
     "execution_count": 55,
     "metadata": {},
     "output_type": "execute_result"
    }
   ],
   "source": [
    "cv_results['test_f1'].mean()"
   ]
  },
  {
   "cell_type": "code",
   "execution_count": 56,
   "id": "3b133b74",
   "metadata": {},
   "outputs": [
    {
     "data": {
      "text/plain": [
       "0.8127938504542278"
      ]
     },
     "execution_count": 56,
     "metadata": {},
     "output_type": "execute_result"
    }
   ],
   "source": [
    "cv_results['test_roc_auc'].mean()"
   ]
  },
  {
   "cell_type": "code",
   "execution_count": 57,
   "id": "7bd6d3e7",
   "metadata": {},
   "outputs": [],
   "source": [
    "#3ü de artmış"
   ]
  },
  {
   "cell_type": "code",
   "execution_count": 67,
   "id": "f284cd25",
   "metadata": {},
   "outputs": [
    {
     "data": {
      "text/html": [
       "<div>\n",
       "<style scoped>\n",
       "    .dataframe tbody tr th:only-of-type {\n",
       "        vertical-align: middle;\n",
       "    }\n",
       "\n",
       "    .dataframe tbody tr th {\n",
       "        vertical-align: top;\n",
       "    }\n",
       "\n",
       "    .dataframe thead th {\n",
       "        text-align: right;\n",
       "    }\n",
       "</style>\n",
       "<table border=\"1\" class=\"dataframe\">\n",
       "  <thead>\n",
       "    <tr style=\"text-align: right;\">\n",
       "      <th></th>\n",
       "      <th>Pregnancies</th>\n",
       "      <th>Glucose</th>\n",
       "      <th>BloodPressure</th>\n",
       "      <th>SkinThickness</th>\n",
       "      <th>Insulin</th>\n",
       "      <th>BMI</th>\n",
       "      <th>DiabetesPedigreeFunction</th>\n",
       "      <th>Age</th>\n",
       "    </tr>\n",
       "  </thead>\n",
       "  <tbody>\n",
       "    <tr>\n",
       "      <th>308</th>\n",
       "      <td>-1.141852</td>\n",
       "      <td>0.222381</td>\n",
       "      <td>-0.05715</td>\n",
       "      <td>-0.096379</td>\n",
       "      <td>0.870031</td>\n",
       "      <td>-0.189437</td>\n",
       "      <td>2.775863</td>\n",
       "      <td>-0.701198</td>\n",
       "    </tr>\n",
       "  </tbody>\n",
       "</table>\n",
       "</div>"
      ],
      "text/plain": [
       "     Pregnancies   Glucose  BloodPressure  SkinThickness   Insulin       BMI  DiabetesPedigreeFunction       Age\n",
       "308    -1.141852  0.222381       -0.05715      -0.096379  0.870031 -0.189437                  2.775863 -0.701198"
      ]
     },
     "execution_count": 67,
     "metadata": {},
     "output_type": "execute_result"
    }
   ],
   "source": [
    "random_user = X.sample(1)\n",
    "\n",
    "#bi tane kullanıcı seçtim \n",
    "#random state demediğim için aynı sonuç çıkmayacak\n",
    "\n",
    "random_user"
   ]
  },
  {
   "cell_type": "code",
   "execution_count": 68,
   "id": "17c5a3aa",
   "metadata": {},
   "outputs": [
    {
     "data": {
      "text/plain": [
       "array([0], dtype=int64)"
      ]
     },
     "execution_count": 68,
     "metadata": {},
     "output_type": "execute_result"
    }
   ],
   "source": [
    "knn_final.predict(random_user)"
   ]
  },
  {
   "cell_type": "code",
   "execution_count": null,
   "id": "c233441c",
   "metadata": {},
   "outputs": [],
   "source": [
    "#0 diyabet değil , 1 diyabet"
   ]
  }
 ],
 "metadata": {
  "kernelspec": {
   "display_name": "Python 3 (ipykernel)",
   "language": "python",
   "name": "python3"
  },
  "language_info": {
   "codemirror_mode": {
    "name": "ipython",
    "version": 3
   },
   "file_extension": ".py",
   "mimetype": "text/x-python",
   "name": "python",
   "nbconvert_exporter": "python",
   "pygments_lexer": "ipython3",
   "version": "3.11.4"
  }
 },
 "nbformat": 4,
 "nbformat_minor": 5
}
